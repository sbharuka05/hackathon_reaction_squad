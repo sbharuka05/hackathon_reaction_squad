{
  "nbformat": 4,
  "nbformat_minor": 0,
  "metadata": {
    "colab": {
      "name": "process.ipynb",
      "provenance": [],
      "collapsed_sections": [],
      "include_colab_link": true
    },
    "kernelspec": {
      "name": "python3",
      "display_name": "Python 3"
    },
    "language_info": {
      "name": "python"
    }
  },
  "cells": [
    {
      "cell_type": "markdown",
      "metadata": {
        "id": "view-in-github",
        "colab_type": "text"
      },
      "source": [
        "<a href=\"https://colab.research.google.com/github/shrishti-bharuka/hackathon_reaction_squad/blob/main/process.ipynb\" target=\"_parent\"><img src=\"https://colab.research.google.com/assets/colab-badge.svg\" alt=\"Open In Colab\"/></a>"
      ]
    },
    {
      "cell_type": "code",
      "metadata": {
        "colab": {
          "base_uri": "https://localhost:8080/"
        },
        "id": "uQ1TgbqGM8xi",
        "outputId": "1b365d9a-a6a9-46e0-b096-8a6de41e51ac"
      },
      "source": [
        "#mounting google drive\n",
        "from google.colab import drive\n",
        "drive.mount('/content/drive')"
      ],
      "execution_count": 5,
      "outputs": [
        {
          "output_type": "stream",
          "text": [
            "Mounted at /content/drive\n"
          ],
          "name": "stdout"
        }
      ]
    },
    {
      "cell_type": "code",
      "metadata": {
        "id": "tEIJw1KVid2E"
      },
      "source": [
        "import pandas as pd\n",
        "import numpy as np"
      ],
      "execution_count": 6,
      "outputs": []
    },
    {
      "cell_type": "code",
      "metadata": {
        "id": "tK1_Al5pijbF",
        "colab": {
          "base_uri": "https://localhost:8080/",
          "height": 49
        },
        "outputId": "43dbda20-2869-461c-8b78-cfa64d4f1e9a"
      },
      "source": [
        "original_dataset = pd.read_csv('/content/drive/MyDrive/dataset final/Manual Symptoms-severity table - Sheet1.csv')\n",
        "manual = original_dataset.copy()\n",
        "manual.head()"
      ],
      "execution_count": 7,
      "outputs": [
        {
          "output_type": "execute_result",
          "data": {
            "text/html": [
              "<div>\n",
              "<style scoped>\n",
              "    .dataframe tbody tr th:only-of-type {\n",
              "        vertical-align: middle;\n",
              "    }\n",
              "\n",
              "    .dataframe tbody tr th {\n",
              "        vertical-align: top;\n",
              "    }\n",
              "\n",
              "    .dataframe thead th {\n",
              "        text-align: right;\n",
              "    }\n",
              "</style>\n",
              "<table border=\"1\" class=\"dataframe\">\n",
              "  <thead>\n",
              "    <tr style=\"text-align: right;\">\n",
              "      <th></th>\n",
              "      <th>uniqueID</th>\n",
              "      <th>check_in date</th>\n",
              "      <th>Hairfall</th>\n",
              "      <th>Rashes</th>\n",
              "      <th>Upset stomach</th>\n",
              "      <th>Fever</th>\n",
              "      <th>Body pain</th>\n",
              "      <th>Headache</th>\n",
              "      <th>Severity</th>\n",
              "    </tr>\n",
              "  </thead>\n",
              "  <tbody>\n",
              "  </tbody>\n",
              "</table>\n",
              "</div>"
            ],
            "text/plain": [
              "Empty DataFrame\n",
              "Columns: [uniqueID, check_in date, Hairfall, Rashes, Upset stomach, Fever, Body pain, Headache, Severity]\n",
              "Index: []"
            ]
          },
          "metadata": {
            "tags": []
          },
          "execution_count": 7
        }
      ]
    },
    {
      "cell_type": "code",
      "metadata": {
        "id": "zrBqEtgQZT0p",
        "colab": {
          "base_uri": "https://localhost:8080/",
          "height": 49
        },
        "outputId": "395b1361-9a12-4463-f341-265d8c736b9e"
      },
      "source": [
        "original_dataset = pd.read_csv('/content/drive/MyDrive/dataset final/mainsheet - Sheet1.csv')\n",
        "main = original_dataset.copy()\n",
        "main.head()"
      ],
      "execution_count": 8,
      "outputs": [
        {
          "output_type": "execute_result",
          "data": {
            "text/html": [
              "<div>\n",
              "<style scoped>\n",
              "    .dataframe tbody tr th:only-of-type {\n",
              "        vertical-align: middle;\n",
              "    }\n",
              "\n",
              "    .dataframe tbody tr th {\n",
              "        vertical-align: top;\n",
              "    }\n",
              "\n",
              "    .dataframe thead th {\n",
              "        text-align: right;\n",
              "    }\n",
              "</style>\n",
              "<table border=\"1\" class=\"dataframe\">\n",
              "  <thead>\n",
              "    <tr style=\"text-align: right;\">\n",
              "      <th></th>\n",
              "      <th>uniqueID</th>\n",
              "      <th>Age</th>\n",
              "      <th>Height(cm)</th>\n",
              "      <th>Weight(kg)</th>\n",
              "      <th>Country</th>\n",
              "      <th>Ethnicity</th>\n",
              "      <th>Gender</th>\n",
              "      <th>condition</th>\n",
              "      <th>treatment</th>\n",
              "      <th>treatment_score</th>\n",
              "      <th>updated_date</th>\n",
              "    </tr>\n",
              "  </thead>\n",
              "  <tbody>\n",
              "  </tbody>\n",
              "</table>\n",
              "</div>"
            ],
            "text/plain": [
              "Empty DataFrame\n",
              "Columns: [uniqueID, Age, Height(cm), Weight(kg), Country, Ethnicity, Gender, condition, treatment, treatment_score, updated_date]\n",
              "Index: []"
            ]
          },
          "metadata": {
            "tags": []
          },
          "execution_count": 8
        }
      ]
    },
    {
      "cell_type": "code",
      "metadata": {
        "id": "VR5YXn6crsDx",
        "colab": {
          "base_uri": "https://localhost:8080/",
          "height": 221
        },
        "outputId": "b813b4a0-bc09-4896-9d7c-36a9f6c26ce4"
      },
      "source": [
        "original_dataset = pd.read_csv('/content/drive/MyDrive/auto.csv')\n",
        "auto = original_dataset.copy()\n",
        "auto.head()"
      ],
      "execution_count": 9,
      "outputs": [
        {
          "output_type": "execute_result",
          "data": {
            "text/html": [
              "<div>\n",
              "<style scoped>\n",
              "    .dataframe tbody tr th:only-of-type {\n",
              "        vertical-align: middle;\n",
              "    }\n",
              "\n",
              "    .dataframe tbody tr th {\n",
              "        vertical-align: top;\n",
              "    }\n",
              "\n",
              "    .dataframe thead th {\n",
              "        text-align: right;\n",
              "    }\n",
              "</style>\n",
              "<table border=\"1\" class=\"dataframe\">\n",
              "  <thead>\n",
              "    <tr style=\"text-align: right;\">\n",
              "      <th></th>\n",
              "      <th>Unnamed: 0</th>\n",
              "      <th>uniqueID</th>\n",
              "      <th>check_in date</th>\n",
              "      <th>Blood sugar</th>\n",
              "      <th>Hip-waist ratio</th>\n",
              "      <th>Lower blood pressure</th>\n",
              "      <th>Upper Blood pressure</th>\n",
              "      <th>Pulse</th>\n",
              "      <th>Severity</th>\n",
              "    </tr>\n",
              "  </thead>\n",
              "  <tbody>\n",
              "    <tr>\n",
              "      <th>0</th>\n",
              "      <td>0</td>\n",
              "      <td>411241</td>\n",
              "      <td>2021-01-06</td>\n",
              "      <td>1</td>\n",
              "      <td>2</td>\n",
              "      <td>0</td>\n",
              "      <td>0</td>\n",
              "      <td>2</td>\n",
              "      <td>2</td>\n",
              "    </tr>\n",
              "    <tr>\n",
              "      <th>1</th>\n",
              "      <td>1</td>\n",
              "      <td>469579</td>\n",
              "      <td>2021-01-01</td>\n",
              "      <td>2</td>\n",
              "      <td>0</td>\n",
              "      <td>0</td>\n",
              "      <td>1</td>\n",
              "      <td>2</td>\n",
              "      <td>2</td>\n",
              "    </tr>\n",
              "    <tr>\n",
              "      <th>2</th>\n",
              "      <td>2</td>\n",
              "      <td>200903</td>\n",
              "      <td>2021-01-01</td>\n",
              "      <td>0</td>\n",
              "      <td>1</td>\n",
              "      <td>0</td>\n",
              "      <td>1</td>\n",
              "      <td>1</td>\n",
              "      <td>1</td>\n",
              "    </tr>\n",
              "    <tr>\n",
              "      <th>3</th>\n",
              "      <td>3</td>\n",
              "      <td>189597</td>\n",
              "      <td>2021-01-02</td>\n",
              "      <td>0</td>\n",
              "      <td>1</td>\n",
              "      <td>0</td>\n",
              "      <td>2</td>\n",
              "      <td>2</td>\n",
              "      <td>2</td>\n",
              "    </tr>\n",
              "    <tr>\n",
              "      <th>4</th>\n",
              "      <td>4</td>\n",
              "      <td>280974</td>\n",
              "      <td>2021-01-03</td>\n",
              "      <td>2</td>\n",
              "      <td>2</td>\n",
              "      <td>1</td>\n",
              "      <td>0</td>\n",
              "      <td>2</td>\n",
              "      <td>2</td>\n",
              "    </tr>\n",
              "  </tbody>\n",
              "</table>\n",
              "</div>"
            ],
            "text/plain": [
              "   Unnamed: 0  uniqueID check_in date  ...  Upper Blood pressure  Pulse  Severity\n",
              "0           0    411241    2021-01-06  ...                     0      2         2\n",
              "1           1    469579    2021-01-01  ...                     1      2         2\n",
              "2           2    200903    2021-01-01  ...                     1      1         1\n",
              "3           3    189597    2021-01-02  ...                     2      2         2\n",
              "4           4    280974    2021-01-03  ...                     0      2         2\n",
              "\n",
              "[5 rows x 9 columns]"
            ]
          },
          "metadata": {
            "tags": []
          },
          "execution_count": 9
        }
      ]
    },
    {
      "cell_type": "code",
      "metadata": {
        "id": "NDE9lgwym9hf"
      },
      "source": [
        "manual[\"Hairfall\"] = np.random.randint(0,6 , 50000);"
      ],
      "execution_count": 10,
      "outputs": []
    },
    {
      "cell_type": "code",
      "metadata": {
        "id": "szX_0v7qoEeL",
        "colab": {
          "base_uri": "https://localhost:8080/",
          "height": 204
        },
        "outputId": "73b3d82e-8304-4993-cc94-7c34502be3ad"
      },
      "source": [
        "manual.head()"
      ],
      "execution_count": 11,
      "outputs": [
        {
          "output_type": "execute_result",
          "data": {
            "text/html": [
              "<div>\n",
              "<style scoped>\n",
              "    .dataframe tbody tr th:only-of-type {\n",
              "        vertical-align: middle;\n",
              "    }\n",
              "\n",
              "    .dataframe tbody tr th {\n",
              "        vertical-align: top;\n",
              "    }\n",
              "\n",
              "    .dataframe thead th {\n",
              "        text-align: right;\n",
              "    }\n",
              "</style>\n",
              "<table border=\"1\" class=\"dataframe\">\n",
              "  <thead>\n",
              "    <tr style=\"text-align: right;\">\n",
              "      <th></th>\n",
              "      <th>uniqueID</th>\n",
              "      <th>check_in date</th>\n",
              "      <th>Hairfall</th>\n",
              "      <th>Rashes</th>\n",
              "      <th>Upset stomach</th>\n",
              "      <th>Fever</th>\n",
              "      <th>Body pain</th>\n",
              "      <th>Headache</th>\n",
              "      <th>Severity</th>\n",
              "    </tr>\n",
              "  </thead>\n",
              "  <tbody>\n",
              "    <tr>\n",
              "      <th>0</th>\n",
              "      <td>NaN</td>\n",
              "      <td>NaN</td>\n",
              "      <td>3</td>\n",
              "      <td>NaN</td>\n",
              "      <td>NaN</td>\n",
              "      <td>NaN</td>\n",
              "      <td>NaN</td>\n",
              "      <td>NaN</td>\n",
              "      <td>NaN</td>\n",
              "    </tr>\n",
              "    <tr>\n",
              "      <th>1</th>\n",
              "      <td>NaN</td>\n",
              "      <td>NaN</td>\n",
              "      <td>3</td>\n",
              "      <td>NaN</td>\n",
              "      <td>NaN</td>\n",
              "      <td>NaN</td>\n",
              "      <td>NaN</td>\n",
              "      <td>NaN</td>\n",
              "      <td>NaN</td>\n",
              "    </tr>\n",
              "    <tr>\n",
              "      <th>2</th>\n",
              "      <td>NaN</td>\n",
              "      <td>NaN</td>\n",
              "      <td>2</td>\n",
              "      <td>NaN</td>\n",
              "      <td>NaN</td>\n",
              "      <td>NaN</td>\n",
              "      <td>NaN</td>\n",
              "      <td>NaN</td>\n",
              "      <td>NaN</td>\n",
              "    </tr>\n",
              "    <tr>\n",
              "      <th>3</th>\n",
              "      <td>NaN</td>\n",
              "      <td>NaN</td>\n",
              "      <td>3</td>\n",
              "      <td>NaN</td>\n",
              "      <td>NaN</td>\n",
              "      <td>NaN</td>\n",
              "      <td>NaN</td>\n",
              "      <td>NaN</td>\n",
              "      <td>NaN</td>\n",
              "    </tr>\n",
              "    <tr>\n",
              "      <th>4</th>\n",
              "      <td>NaN</td>\n",
              "      <td>NaN</td>\n",
              "      <td>0</td>\n",
              "      <td>NaN</td>\n",
              "      <td>NaN</td>\n",
              "      <td>NaN</td>\n",
              "      <td>NaN</td>\n",
              "      <td>NaN</td>\n",
              "      <td>NaN</td>\n",
              "    </tr>\n",
              "  </tbody>\n",
              "</table>\n",
              "</div>"
            ],
            "text/plain": [
              "  uniqueID check_in date  Hairfall Rashes  ... Fever Body pain Headache Severity\n",
              "0      NaN           NaN         3    NaN  ...   NaN       NaN      NaN      NaN\n",
              "1      NaN           NaN         3    NaN  ...   NaN       NaN      NaN      NaN\n",
              "2      NaN           NaN         2    NaN  ...   NaN       NaN      NaN      NaN\n",
              "3      NaN           NaN         3    NaN  ...   NaN       NaN      NaN      NaN\n",
              "4      NaN           NaN         0    NaN  ...   NaN       NaN      NaN      NaN\n",
              "\n",
              "[5 rows x 9 columns]"
            ]
          },
          "metadata": {
            "tags": []
          },
          "execution_count": 11
        }
      ]
    },
    {
      "cell_type": "code",
      "metadata": {
        "id": "w1_x_EzzZhWr"
      },
      "source": [
        "main['uniqueID'] = np.random.randint(1,1001,1000)"
      ],
      "execution_count": 12,
      "outputs": []
    },
    {
      "cell_type": "code",
      "metadata": {
        "id": "hgWaedTBZ9ec",
        "colab": {
          "base_uri": "https://localhost:8080/",
          "height": 204
        },
        "outputId": "d5ab7b28-9893-4e0f-b67d-00848572f411"
      },
      "source": [
        "main.head()"
      ],
      "execution_count": 13,
      "outputs": [
        {
          "output_type": "execute_result",
          "data": {
            "text/html": [
              "<div>\n",
              "<style scoped>\n",
              "    .dataframe tbody tr th:only-of-type {\n",
              "        vertical-align: middle;\n",
              "    }\n",
              "\n",
              "    .dataframe tbody tr th {\n",
              "        vertical-align: top;\n",
              "    }\n",
              "\n",
              "    .dataframe thead th {\n",
              "        text-align: right;\n",
              "    }\n",
              "</style>\n",
              "<table border=\"1\" class=\"dataframe\">\n",
              "  <thead>\n",
              "    <tr style=\"text-align: right;\">\n",
              "      <th></th>\n",
              "      <th>uniqueID</th>\n",
              "      <th>Age</th>\n",
              "      <th>Height(cm)</th>\n",
              "      <th>Weight(kg)</th>\n",
              "      <th>Country</th>\n",
              "      <th>Ethnicity</th>\n",
              "      <th>Gender</th>\n",
              "      <th>condition</th>\n",
              "      <th>treatment</th>\n",
              "      <th>treatment_score</th>\n",
              "      <th>updated_date</th>\n",
              "    </tr>\n",
              "  </thead>\n",
              "  <tbody>\n",
              "    <tr>\n",
              "      <th>0</th>\n",
              "      <td>78</td>\n",
              "      <td>NaN</td>\n",
              "      <td>NaN</td>\n",
              "      <td>NaN</td>\n",
              "      <td>NaN</td>\n",
              "      <td>NaN</td>\n",
              "      <td>NaN</td>\n",
              "      <td>NaN</td>\n",
              "      <td>NaN</td>\n",
              "      <td>NaN</td>\n",
              "      <td>NaN</td>\n",
              "    </tr>\n",
              "    <tr>\n",
              "      <th>1</th>\n",
              "      <td>165</td>\n",
              "      <td>NaN</td>\n",
              "      <td>NaN</td>\n",
              "      <td>NaN</td>\n",
              "      <td>NaN</td>\n",
              "      <td>NaN</td>\n",
              "      <td>NaN</td>\n",
              "      <td>NaN</td>\n",
              "      <td>NaN</td>\n",
              "      <td>NaN</td>\n",
              "      <td>NaN</td>\n",
              "    </tr>\n",
              "    <tr>\n",
              "      <th>2</th>\n",
              "      <td>174</td>\n",
              "      <td>NaN</td>\n",
              "      <td>NaN</td>\n",
              "      <td>NaN</td>\n",
              "      <td>NaN</td>\n",
              "      <td>NaN</td>\n",
              "      <td>NaN</td>\n",
              "      <td>NaN</td>\n",
              "      <td>NaN</td>\n",
              "      <td>NaN</td>\n",
              "      <td>NaN</td>\n",
              "    </tr>\n",
              "    <tr>\n",
              "      <th>3</th>\n",
              "      <td>79</td>\n",
              "      <td>NaN</td>\n",
              "      <td>NaN</td>\n",
              "      <td>NaN</td>\n",
              "      <td>NaN</td>\n",
              "      <td>NaN</td>\n",
              "      <td>NaN</td>\n",
              "      <td>NaN</td>\n",
              "      <td>NaN</td>\n",
              "      <td>NaN</td>\n",
              "      <td>NaN</td>\n",
              "    </tr>\n",
              "    <tr>\n",
              "      <th>4</th>\n",
              "      <td>23</td>\n",
              "      <td>NaN</td>\n",
              "      <td>NaN</td>\n",
              "      <td>NaN</td>\n",
              "      <td>NaN</td>\n",
              "      <td>NaN</td>\n",
              "      <td>NaN</td>\n",
              "      <td>NaN</td>\n",
              "      <td>NaN</td>\n",
              "      <td>NaN</td>\n",
              "      <td>NaN</td>\n",
              "    </tr>\n",
              "  </tbody>\n",
              "</table>\n",
              "</div>"
            ],
            "text/plain": [
              "   uniqueID  Age Height(cm)  ... treatment treatment_score updated_date\n",
              "0        78  NaN        NaN  ...       NaN             NaN          NaN\n",
              "1       165  NaN        NaN  ...       NaN             NaN          NaN\n",
              "2       174  NaN        NaN  ...       NaN             NaN          NaN\n",
              "3        79  NaN        NaN  ...       NaN             NaN          NaN\n",
              "4        23  NaN        NaN  ...       NaN             NaN          NaN\n",
              "\n",
              "[5 rows x 11 columns]"
            ]
          },
          "metadata": {
            "tags": []
          },
          "execution_count": 13
        }
      ]
    },
    {
      "cell_type": "code",
      "metadata": {
        "id": "6naL46TDaB8j"
      },
      "source": [
        "main['Age'] = np.random.randint(30,61,1000)\n",
        "main['Height(cm)'] = np.random.randint(140,201,1000)\n",
        "main['Weight'] = np.random.randint(50,200,1000)\n",
        "main['Ethnicity'] = np.random.randint(1,5,1000)\n",
        "main['Gender'] = np.random.randint(1,4,1000)\n",
        "main['Country'] = np.random.randint(1,3,1000)\n",
        "main['Condition'] = np.random.randint(1,3,1000)\n",
        "\n",
        "\n",
        "\n"
      ],
      "execution_count": 14,
      "outputs": []
    },
    {
      "cell_type": "code",
      "metadata": {
        "id": "lz9b9hs1cig_",
        "colab": {
          "base_uri": "https://localhost:8080/",
          "height": 224
        },
        "outputId": "461171f4-ee3d-4a0e-ad3b-8392c149fd7e"
      },
      "source": [
        "main.head()"
      ],
      "execution_count": 15,
      "outputs": [
        {
          "output_type": "execute_result",
          "data": {
            "text/html": [
              "<div>\n",
              "<style scoped>\n",
              "    .dataframe tbody tr th:only-of-type {\n",
              "        vertical-align: middle;\n",
              "    }\n",
              "\n",
              "    .dataframe tbody tr th {\n",
              "        vertical-align: top;\n",
              "    }\n",
              "\n",
              "    .dataframe thead th {\n",
              "        text-align: right;\n",
              "    }\n",
              "</style>\n",
              "<table border=\"1\" class=\"dataframe\">\n",
              "  <thead>\n",
              "    <tr style=\"text-align: right;\">\n",
              "      <th></th>\n",
              "      <th>uniqueID</th>\n",
              "      <th>Age</th>\n",
              "      <th>Height(cm)</th>\n",
              "      <th>Weight(kg)</th>\n",
              "      <th>Country</th>\n",
              "      <th>Ethnicity</th>\n",
              "      <th>Gender</th>\n",
              "      <th>condition</th>\n",
              "      <th>treatment</th>\n",
              "      <th>treatment_score</th>\n",
              "      <th>updated_date</th>\n",
              "      <th>Weight</th>\n",
              "      <th>Condition</th>\n",
              "    </tr>\n",
              "  </thead>\n",
              "  <tbody>\n",
              "    <tr>\n",
              "      <th>0</th>\n",
              "      <td>78</td>\n",
              "      <td>51</td>\n",
              "      <td>188</td>\n",
              "      <td>NaN</td>\n",
              "      <td>2</td>\n",
              "      <td>1</td>\n",
              "      <td>3</td>\n",
              "      <td>NaN</td>\n",
              "      <td>NaN</td>\n",
              "      <td>NaN</td>\n",
              "      <td>NaN</td>\n",
              "      <td>91</td>\n",
              "      <td>2</td>\n",
              "    </tr>\n",
              "    <tr>\n",
              "      <th>1</th>\n",
              "      <td>165</td>\n",
              "      <td>54</td>\n",
              "      <td>185</td>\n",
              "      <td>NaN</td>\n",
              "      <td>2</td>\n",
              "      <td>4</td>\n",
              "      <td>2</td>\n",
              "      <td>NaN</td>\n",
              "      <td>NaN</td>\n",
              "      <td>NaN</td>\n",
              "      <td>NaN</td>\n",
              "      <td>163</td>\n",
              "      <td>2</td>\n",
              "    </tr>\n",
              "    <tr>\n",
              "      <th>2</th>\n",
              "      <td>174</td>\n",
              "      <td>36</td>\n",
              "      <td>153</td>\n",
              "      <td>NaN</td>\n",
              "      <td>2</td>\n",
              "      <td>3</td>\n",
              "      <td>2</td>\n",
              "      <td>NaN</td>\n",
              "      <td>NaN</td>\n",
              "      <td>NaN</td>\n",
              "      <td>NaN</td>\n",
              "      <td>177</td>\n",
              "      <td>1</td>\n",
              "    </tr>\n",
              "    <tr>\n",
              "      <th>3</th>\n",
              "      <td>79</td>\n",
              "      <td>30</td>\n",
              "      <td>175</td>\n",
              "      <td>NaN</td>\n",
              "      <td>2</td>\n",
              "      <td>4</td>\n",
              "      <td>3</td>\n",
              "      <td>NaN</td>\n",
              "      <td>NaN</td>\n",
              "      <td>NaN</td>\n",
              "      <td>NaN</td>\n",
              "      <td>172</td>\n",
              "      <td>1</td>\n",
              "    </tr>\n",
              "    <tr>\n",
              "      <th>4</th>\n",
              "      <td>23</td>\n",
              "      <td>51</td>\n",
              "      <td>171</td>\n",
              "      <td>NaN</td>\n",
              "      <td>1</td>\n",
              "      <td>4</td>\n",
              "      <td>3</td>\n",
              "      <td>NaN</td>\n",
              "      <td>NaN</td>\n",
              "      <td>NaN</td>\n",
              "      <td>NaN</td>\n",
              "      <td>193</td>\n",
              "      <td>1</td>\n",
              "    </tr>\n",
              "  </tbody>\n",
              "</table>\n",
              "</div>"
            ],
            "text/plain": [
              "   uniqueID  Age  Height(cm)  ... updated_date  Weight  Condition\n",
              "0        78   51         188  ...          NaN      91          2\n",
              "1       165   54         185  ...          NaN     163          2\n",
              "2       174   36         153  ...          NaN     177          1\n",
              "3        79   30         175  ...          NaN     172          1\n",
              "4        23   51         171  ...          NaN     193          1\n",
              "\n",
              "[5 rows x 13 columns]"
            ]
          },
          "metadata": {
            "tags": []
          },
          "execution_count": 15
        }
      ]
    },
    {
      "cell_type": "code",
      "metadata": {
        "id": "1OFOxE3sdkUK",
        "colab": {
          "base_uri": "https://localhost:8080/",
          "height": 419
        },
        "outputId": "0c17d8a2-1d64-4617-c145-dc30d056e9b2"
      },
      "source": [
        "main.drop([\"Weight\",\"Condition\"],axis = 1)"
      ],
      "execution_count": 18,
      "outputs": [
        {
          "output_type": "execute_result",
          "data": {
            "text/html": [
              "<div>\n",
              "<style scoped>\n",
              "    .dataframe tbody tr th:only-of-type {\n",
              "        vertical-align: middle;\n",
              "    }\n",
              "\n",
              "    .dataframe tbody tr th {\n",
              "        vertical-align: top;\n",
              "    }\n",
              "\n",
              "    .dataframe thead th {\n",
              "        text-align: right;\n",
              "    }\n",
              "</style>\n",
              "<table border=\"1\" class=\"dataframe\">\n",
              "  <thead>\n",
              "    <tr style=\"text-align: right;\">\n",
              "      <th></th>\n",
              "      <th>uniqueID</th>\n",
              "      <th>Age</th>\n",
              "      <th>Height(cm)</th>\n",
              "      <th>Weight(kg)</th>\n",
              "      <th>Country</th>\n",
              "      <th>Ethnicity</th>\n",
              "      <th>Gender</th>\n",
              "      <th>condition</th>\n",
              "      <th>treatment</th>\n",
              "      <th>treatment_score</th>\n",
              "      <th>updated_date</th>\n",
              "    </tr>\n",
              "  </thead>\n",
              "  <tbody>\n",
              "    <tr>\n",
              "      <th>0</th>\n",
              "      <td>78</td>\n",
              "      <td>51</td>\n",
              "      <td>188</td>\n",
              "      <td>NaN</td>\n",
              "      <td>2</td>\n",
              "      <td>1</td>\n",
              "      <td>3</td>\n",
              "      <td>NaN</td>\n",
              "      <td>NaN</td>\n",
              "      <td>NaN</td>\n",
              "      <td>NaN</td>\n",
              "    </tr>\n",
              "    <tr>\n",
              "      <th>1</th>\n",
              "      <td>165</td>\n",
              "      <td>54</td>\n",
              "      <td>185</td>\n",
              "      <td>NaN</td>\n",
              "      <td>2</td>\n",
              "      <td>4</td>\n",
              "      <td>2</td>\n",
              "      <td>NaN</td>\n",
              "      <td>NaN</td>\n",
              "      <td>NaN</td>\n",
              "      <td>NaN</td>\n",
              "    </tr>\n",
              "    <tr>\n",
              "      <th>2</th>\n",
              "      <td>174</td>\n",
              "      <td>36</td>\n",
              "      <td>153</td>\n",
              "      <td>NaN</td>\n",
              "      <td>2</td>\n",
              "      <td>3</td>\n",
              "      <td>2</td>\n",
              "      <td>NaN</td>\n",
              "      <td>NaN</td>\n",
              "      <td>NaN</td>\n",
              "      <td>NaN</td>\n",
              "    </tr>\n",
              "    <tr>\n",
              "      <th>3</th>\n",
              "      <td>79</td>\n",
              "      <td>30</td>\n",
              "      <td>175</td>\n",
              "      <td>NaN</td>\n",
              "      <td>2</td>\n",
              "      <td>4</td>\n",
              "      <td>3</td>\n",
              "      <td>NaN</td>\n",
              "      <td>NaN</td>\n",
              "      <td>NaN</td>\n",
              "      <td>NaN</td>\n",
              "    </tr>\n",
              "    <tr>\n",
              "      <th>4</th>\n",
              "      <td>23</td>\n",
              "      <td>51</td>\n",
              "      <td>171</td>\n",
              "      <td>NaN</td>\n",
              "      <td>1</td>\n",
              "      <td>4</td>\n",
              "      <td>3</td>\n",
              "      <td>NaN</td>\n",
              "      <td>NaN</td>\n",
              "      <td>NaN</td>\n",
              "      <td>NaN</td>\n",
              "    </tr>\n",
              "    <tr>\n",
              "      <th>...</th>\n",
              "      <td>...</td>\n",
              "      <td>...</td>\n",
              "      <td>...</td>\n",
              "      <td>...</td>\n",
              "      <td>...</td>\n",
              "      <td>...</td>\n",
              "      <td>...</td>\n",
              "      <td>...</td>\n",
              "      <td>...</td>\n",
              "      <td>...</td>\n",
              "      <td>...</td>\n",
              "    </tr>\n",
              "    <tr>\n",
              "      <th>995</th>\n",
              "      <td>169</td>\n",
              "      <td>44</td>\n",
              "      <td>152</td>\n",
              "      <td>NaN</td>\n",
              "      <td>1</td>\n",
              "      <td>1</td>\n",
              "      <td>2</td>\n",
              "      <td>NaN</td>\n",
              "      <td>NaN</td>\n",
              "      <td>NaN</td>\n",
              "      <td>NaN</td>\n",
              "    </tr>\n",
              "    <tr>\n",
              "      <th>996</th>\n",
              "      <td>175</td>\n",
              "      <td>57</td>\n",
              "      <td>193</td>\n",
              "      <td>NaN</td>\n",
              "      <td>2</td>\n",
              "      <td>1</td>\n",
              "      <td>2</td>\n",
              "      <td>NaN</td>\n",
              "      <td>NaN</td>\n",
              "      <td>NaN</td>\n",
              "      <td>NaN</td>\n",
              "    </tr>\n",
              "    <tr>\n",
              "      <th>997</th>\n",
              "      <td>764</td>\n",
              "      <td>45</td>\n",
              "      <td>148</td>\n",
              "      <td>NaN</td>\n",
              "      <td>2</td>\n",
              "      <td>3</td>\n",
              "      <td>1</td>\n",
              "      <td>NaN</td>\n",
              "      <td>NaN</td>\n",
              "      <td>NaN</td>\n",
              "      <td>NaN</td>\n",
              "    </tr>\n",
              "    <tr>\n",
              "      <th>998</th>\n",
              "      <td>370</td>\n",
              "      <td>46</td>\n",
              "      <td>187</td>\n",
              "      <td>NaN</td>\n",
              "      <td>1</td>\n",
              "      <td>1</td>\n",
              "      <td>3</td>\n",
              "      <td>NaN</td>\n",
              "      <td>NaN</td>\n",
              "      <td>NaN</td>\n",
              "      <td>NaN</td>\n",
              "    </tr>\n",
              "    <tr>\n",
              "      <th>999</th>\n",
              "      <td>427</td>\n",
              "      <td>56</td>\n",
              "      <td>172</td>\n",
              "      <td>NaN</td>\n",
              "      <td>2</td>\n",
              "      <td>3</td>\n",
              "      <td>1</td>\n",
              "      <td>NaN</td>\n",
              "      <td>NaN</td>\n",
              "      <td>NaN</td>\n",
              "      <td>NaN</td>\n",
              "    </tr>\n",
              "  </tbody>\n",
              "</table>\n",
              "<p>1000 rows × 11 columns</p>\n",
              "</div>"
            ],
            "text/plain": [
              "     uniqueID  Age  Height(cm)  ... treatment  treatment_score  updated_date\n",
              "0          78   51         188  ...       NaN              NaN           NaN\n",
              "1         165   54         185  ...       NaN              NaN           NaN\n",
              "2         174   36         153  ...       NaN              NaN           NaN\n",
              "3          79   30         175  ...       NaN              NaN           NaN\n",
              "4          23   51         171  ...       NaN              NaN           NaN\n",
              "..        ...  ...         ...  ...       ...              ...           ...\n",
              "995       169   44         152  ...       NaN              NaN           NaN\n",
              "996       175   57         193  ...       NaN              NaN           NaN\n",
              "997       764   45         148  ...       NaN              NaN           NaN\n",
              "998       370   46         187  ...       NaN              NaN           NaN\n",
              "999       427   56         172  ...       NaN              NaN           NaN\n",
              "\n",
              "[1000 rows x 11 columns]"
            ]
          },
          "metadata": {
            "tags": []
          },
          "execution_count": 18
        }
      ]
    },
    {
      "cell_type": "code",
      "metadata": {
        "id": "wfnszDU8ct9f"
      },
      "source": [
        "main['Height(cm)'] = np.random.randint(140,201,1000)\n",
        "main['Weight(kg)'] = np.random.randint(50,200,1000)\n"
      ],
      "execution_count": 19,
      "outputs": []
    },
    {
      "cell_type": "code",
      "metadata": {
        "id": "Fg6_oiuKdLfB"
      },
      "source": [
        "main['condition'] = np.random.randint(1,3,1000)\n"
      ],
      "execution_count": 20,
      "outputs": []
    },
    {
      "cell_type": "code",
      "metadata": {
        "id": "ACYhafPDxSXH",
        "colab": {
          "base_uri": "https://localhost:8080/"
        },
        "outputId": "aead3fa1-a62d-4677-edf1-9950a14bcad7"
      },
      "source": [
        "manual[\"Hairfall\"].value_counts()"
      ],
      "execution_count": 21,
      "outputs": [
        {
          "output_type": "execute_result",
          "data": {
            "text/plain": [
              "3    8419\n",
              "0    8399\n",
              "1    8318\n",
              "2    8305\n",
              "5    8285\n",
              "4    8274\n",
              "Name: Hairfall, dtype: int64"
            ]
          },
          "metadata": {
            "tags": []
          },
          "execution_count": 21
        }
      ]
    },
    {
      "cell_type": "code",
      "metadata": {
        "id": "h1ufHVIcoNlO"
      },
      "source": [
        "manual[\"Rashes\"] = np.random.randint(0,6 , 50000)\n",
        "manual[\"Upset stomach\"] = np.random.randint(0,6 , 50000)\n",
        "manual[\"Fever\"] = np.random.randint(0,6 , 50000)\n",
        "manual[\"Body pain\"] = np.random.randint(0,6 , 50000)\n",
        "manual[\"Headache\"] = np.random.randint(0,6 , 50000)"
      ],
      "execution_count": 22,
      "outputs": []
    },
    {
      "cell_type": "code",
      "metadata": {
        "id": "AlPuK2DMpFfs",
        "colab": {
          "base_uri": "https://localhost:8080/",
          "height": 204
        },
        "outputId": "c4d0597f-3207-4959-9fb1-a6f46b302a29"
      },
      "source": [
        "manual.head()"
      ],
      "execution_count": 23,
      "outputs": [
        {
          "output_type": "execute_result",
          "data": {
            "text/html": [
              "<div>\n",
              "<style scoped>\n",
              "    .dataframe tbody tr th:only-of-type {\n",
              "        vertical-align: middle;\n",
              "    }\n",
              "\n",
              "    .dataframe tbody tr th {\n",
              "        vertical-align: top;\n",
              "    }\n",
              "\n",
              "    .dataframe thead th {\n",
              "        text-align: right;\n",
              "    }\n",
              "</style>\n",
              "<table border=\"1\" class=\"dataframe\">\n",
              "  <thead>\n",
              "    <tr style=\"text-align: right;\">\n",
              "      <th></th>\n",
              "      <th>uniqueID</th>\n",
              "      <th>check_in date</th>\n",
              "      <th>Hairfall</th>\n",
              "      <th>Rashes</th>\n",
              "      <th>Upset stomach</th>\n",
              "      <th>Fever</th>\n",
              "      <th>Body pain</th>\n",
              "      <th>Headache</th>\n",
              "      <th>Severity</th>\n",
              "    </tr>\n",
              "  </thead>\n",
              "  <tbody>\n",
              "    <tr>\n",
              "      <th>0</th>\n",
              "      <td>NaN</td>\n",
              "      <td>NaN</td>\n",
              "      <td>3</td>\n",
              "      <td>5</td>\n",
              "      <td>4</td>\n",
              "      <td>0</td>\n",
              "      <td>3</td>\n",
              "      <td>2</td>\n",
              "      <td>NaN</td>\n",
              "    </tr>\n",
              "    <tr>\n",
              "      <th>1</th>\n",
              "      <td>NaN</td>\n",
              "      <td>NaN</td>\n",
              "      <td>3</td>\n",
              "      <td>3</td>\n",
              "      <td>5</td>\n",
              "      <td>2</td>\n",
              "      <td>1</td>\n",
              "      <td>1</td>\n",
              "      <td>NaN</td>\n",
              "    </tr>\n",
              "    <tr>\n",
              "      <th>2</th>\n",
              "      <td>NaN</td>\n",
              "      <td>NaN</td>\n",
              "      <td>2</td>\n",
              "      <td>0</td>\n",
              "      <td>2</td>\n",
              "      <td>2</td>\n",
              "      <td>0</td>\n",
              "      <td>4</td>\n",
              "      <td>NaN</td>\n",
              "    </tr>\n",
              "    <tr>\n",
              "      <th>3</th>\n",
              "      <td>NaN</td>\n",
              "      <td>NaN</td>\n",
              "      <td>3</td>\n",
              "      <td>1</td>\n",
              "      <td>1</td>\n",
              "      <td>4</td>\n",
              "      <td>4</td>\n",
              "      <td>2</td>\n",
              "      <td>NaN</td>\n",
              "    </tr>\n",
              "    <tr>\n",
              "      <th>4</th>\n",
              "      <td>NaN</td>\n",
              "      <td>NaN</td>\n",
              "      <td>0</td>\n",
              "      <td>2</td>\n",
              "      <td>5</td>\n",
              "      <td>4</td>\n",
              "      <td>2</td>\n",
              "      <td>1</td>\n",
              "      <td>NaN</td>\n",
              "    </tr>\n",
              "  </tbody>\n",
              "</table>\n",
              "</div>"
            ],
            "text/plain": [
              "  uniqueID check_in date  Hairfall  Rashes  ...  Fever  Body pain  Headache  Severity\n",
              "0      NaN           NaN         3       5  ...      0          3         2       NaN\n",
              "1      NaN           NaN         3       3  ...      2          1         1       NaN\n",
              "2      NaN           NaN         2       0  ...      2          0         4       NaN\n",
              "3      NaN           NaN         3       1  ...      4          4         2       NaN\n",
              "4      NaN           NaN         0       2  ...      4          2         1       NaN\n",
              "\n",
              "[5 rows x 9 columns]"
            ]
          },
          "metadata": {
            "tags": []
          },
          "execution_count": 23
        }
      ]
    },
    {
      "cell_type": "code",
      "metadata": {
        "id": "D9Z7FfX-spOC"
      },
      "source": [
        "manual[\"uniqueID\"] = np.random.randint(1,16 , 50000)\n"
      ],
      "execution_count": 24,
      "outputs": []
    },
    {
      "cell_type": "code",
      "metadata": {
        "id": "yzf9m48xsywN",
        "colab": {
          "base_uri": "https://localhost:8080/",
          "height": 204
        },
        "outputId": "74a28aca-db39-4501-bfc1-27d656f6f6e7"
      },
      "source": [
        "manual.head()"
      ],
      "execution_count": 25,
      "outputs": [
        {
          "output_type": "execute_result",
          "data": {
            "text/html": [
              "<div>\n",
              "<style scoped>\n",
              "    .dataframe tbody tr th:only-of-type {\n",
              "        vertical-align: middle;\n",
              "    }\n",
              "\n",
              "    .dataframe tbody tr th {\n",
              "        vertical-align: top;\n",
              "    }\n",
              "\n",
              "    .dataframe thead th {\n",
              "        text-align: right;\n",
              "    }\n",
              "</style>\n",
              "<table border=\"1\" class=\"dataframe\">\n",
              "  <thead>\n",
              "    <tr style=\"text-align: right;\">\n",
              "      <th></th>\n",
              "      <th>uniqueID</th>\n",
              "      <th>check_in date</th>\n",
              "      <th>Hairfall</th>\n",
              "      <th>Rashes</th>\n",
              "      <th>Upset stomach</th>\n",
              "      <th>Fever</th>\n",
              "      <th>Body pain</th>\n",
              "      <th>Headache</th>\n",
              "      <th>Severity</th>\n",
              "    </tr>\n",
              "  </thead>\n",
              "  <tbody>\n",
              "    <tr>\n",
              "      <th>0</th>\n",
              "      <td>15</td>\n",
              "      <td>NaN</td>\n",
              "      <td>3</td>\n",
              "      <td>5</td>\n",
              "      <td>4</td>\n",
              "      <td>0</td>\n",
              "      <td>3</td>\n",
              "      <td>2</td>\n",
              "      <td>NaN</td>\n",
              "    </tr>\n",
              "    <tr>\n",
              "      <th>1</th>\n",
              "      <td>4</td>\n",
              "      <td>NaN</td>\n",
              "      <td>3</td>\n",
              "      <td>3</td>\n",
              "      <td>5</td>\n",
              "      <td>2</td>\n",
              "      <td>1</td>\n",
              "      <td>1</td>\n",
              "      <td>NaN</td>\n",
              "    </tr>\n",
              "    <tr>\n",
              "      <th>2</th>\n",
              "      <td>14</td>\n",
              "      <td>NaN</td>\n",
              "      <td>2</td>\n",
              "      <td>0</td>\n",
              "      <td>2</td>\n",
              "      <td>2</td>\n",
              "      <td>0</td>\n",
              "      <td>4</td>\n",
              "      <td>NaN</td>\n",
              "    </tr>\n",
              "    <tr>\n",
              "      <th>3</th>\n",
              "      <td>3</td>\n",
              "      <td>NaN</td>\n",
              "      <td>3</td>\n",
              "      <td>1</td>\n",
              "      <td>1</td>\n",
              "      <td>4</td>\n",
              "      <td>4</td>\n",
              "      <td>2</td>\n",
              "      <td>NaN</td>\n",
              "    </tr>\n",
              "    <tr>\n",
              "      <th>4</th>\n",
              "      <td>4</td>\n",
              "      <td>NaN</td>\n",
              "      <td>0</td>\n",
              "      <td>2</td>\n",
              "      <td>5</td>\n",
              "      <td>4</td>\n",
              "      <td>2</td>\n",
              "      <td>1</td>\n",
              "      <td>NaN</td>\n",
              "    </tr>\n",
              "  </tbody>\n",
              "</table>\n",
              "</div>"
            ],
            "text/plain": [
              "   uniqueID check_in date  Hairfall  ...  Body pain  Headache  Severity\n",
              "0        15           NaN         3  ...          3         2       NaN\n",
              "1         4           NaN         3  ...          1         1       NaN\n",
              "2        14           NaN         2  ...          0         4       NaN\n",
              "3         3           NaN         3  ...          4         2       NaN\n",
              "4         4           NaN         0  ...          2         1       NaN\n",
              "\n",
              "[5 rows x 9 columns]"
            ]
          },
          "metadata": {
            "tags": []
          },
          "execution_count": 25
        }
      ]
    },
    {
      "cell_type": "code",
      "metadata": {
        "id": "5w4SnW7Js3oe",
        "colab": {
          "base_uri": "https://localhost:8080/"
        },
        "outputId": "fd4cb8ae-5318-4419-ed67-75c79821a407"
      },
      "source": [
        "manual[\"uniqueID\"].value_counts()"
      ],
      "execution_count": 26,
      "outputs": [
        {
          "output_type": "execute_result",
          "data": {
            "text/plain": [
              "15    3450\n",
              "2     3421\n",
              "13    3403\n",
              "5     3378\n",
              "11    3361\n",
              "1     3346\n",
              "10    3328\n",
              "14    3314\n",
              "3     3312\n",
              "6     3311\n",
              "4     3311\n",
              "9     3305\n",
              "8     3265\n",
              "7     3261\n",
              "12    3234\n",
              "Name: uniqueID, dtype: int64"
            ]
          },
          "metadata": {
            "tags": []
          },
          "execution_count": 26
        }
      ]
    },
    {
      "cell_type": "code",
      "metadata": {
        "id": "dEMuVyk8tQtV"
      },
      "source": [
        "manual['Severity'] = manual[['Hairfall','Rashes','Upset stomach','Fever','Body pain','Headache']].max(axis=1)\n"
      ],
      "execution_count": 27,
      "outputs": []
    },
    {
      "cell_type": "code",
      "metadata": {
        "id": "XNzm0dTSw-ku",
        "colab": {
          "base_uri": "https://localhost:8080/",
          "height": 204
        },
        "outputId": "efd0f3f2-0f9c-46c7-a54d-488ad9691704"
      },
      "source": [
        "manual.head()"
      ],
      "execution_count": 28,
      "outputs": [
        {
          "output_type": "execute_result",
          "data": {
            "text/html": [
              "<div>\n",
              "<style scoped>\n",
              "    .dataframe tbody tr th:only-of-type {\n",
              "        vertical-align: middle;\n",
              "    }\n",
              "\n",
              "    .dataframe tbody tr th {\n",
              "        vertical-align: top;\n",
              "    }\n",
              "\n",
              "    .dataframe thead th {\n",
              "        text-align: right;\n",
              "    }\n",
              "</style>\n",
              "<table border=\"1\" class=\"dataframe\">\n",
              "  <thead>\n",
              "    <tr style=\"text-align: right;\">\n",
              "      <th></th>\n",
              "      <th>uniqueID</th>\n",
              "      <th>check_in date</th>\n",
              "      <th>Hairfall</th>\n",
              "      <th>Rashes</th>\n",
              "      <th>Upset stomach</th>\n",
              "      <th>Fever</th>\n",
              "      <th>Body pain</th>\n",
              "      <th>Headache</th>\n",
              "      <th>Severity</th>\n",
              "    </tr>\n",
              "  </thead>\n",
              "  <tbody>\n",
              "    <tr>\n",
              "      <th>0</th>\n",
              "      <td>15</td>\n",
              "      <td>NaN</td>\n",
              "      <td>3</td>\n",
              "      <td>5</td>\n",
              "      <td>4</td>\n",
              "      <td>0</td>\n",
              "      <td>3</td>\n",
              "      <td>2</td>\n",
              "      <td>5</td>\n",
              "    </tr>\n",
              "    <tr>\n",
              "      <th>1</th>\n",
              "      <td>4</td>\n",
              "      <td>NaN</td>\n",
              "      <td>3</td>\n",
              "      <td>3</td>\n",
              "      <td>5</td>\n",
              "      <td>2</td>\n",
              "      <td>1</td>\n",
              "      <td>1</td>\n",
              "      <td>5</td>\n",
              "    </tr>\n",
              "    <tr>\n",
              "      <th>2</th>\n",
              "      <td>14</td>\n",
              "      <td>NaN</td>\n",
              "      <td>2</td>\n",
              "      <td>0</td>\n",
              "      <td>2</td>\n",
              "      <td>2</td>\n",
              "      <td>0</td>\n",
              "      <td>4</td>\n",
              "      <td>4</td>\n",
              "    </tr>\n",
              "    <tr>\n",
              "      <th>3</th>\n",
              "      <td>3</td>\n",
              "      <td>NaN</td>\n",
              "      <td>3</td>\n",
              "      <td>1</td>\n",
              "      <td>1</td>\n",
              "      <td>4</td>\n",
              "      <td>4</td>\n",
              "      <td>2</td>\n",
              "      <td>4</td>\n",
              "    </tr>\n",
              "    <tr>\n",
              "      <th>4</th>\n",
              "      <td>4</td>\n",
              "      <td>NaN</td>\n",
              "      <td>0</td>\n",
              "      <td>2</td>\n",
              "      <td>5</td>\n",
              "      <td>4</td>\n",
              "      <td>2</td>\n",
              "      <td>1</td>\n",
              "      <td>5</td>\n",
              "    </tr>\n",
              "  </tbody>\n",
              "</table>\n",
              "</div>"
            ],
            "text/plain": [
              "   uniqueID check_in date  Hairfall  ...  Body pain  Headache  Severity\n",
              "0        15           NaN         3  ...          3         2         5\n",
              "1         4           NaN         3  ...          1         1         5\n",
              "2        14           NaN         2  ...          0         4         4\n",
              "3         3           NaN         3  ...          4         2         4\n",
              "4         4           NaN         0  ...          2         1         5\n",
              "\n",
              "[5 rows x 9 columns]"
            ]
          },
          "metadata": {
            "tags": []
          },
          "execution_count": 28
        }
      ]
    },
    {
      "cell_type": "code",
      "metadata": {
        "id": "Xt8y0SIeyEmK",
        "colab": {
          "base_uri": "https://localhost:8080/"
        },
        "outputId": "2a968fb3-5613-4a19-fb98-12fa9311cf9b"
      },
      "source": [
        "manual[\"Severity\"].value_counts()"
      ],
      "execution_count": 29,
      "outputs": [
        {
          "output_type": "execute_result",
          "data": {
            "text/plain": [
              "5    33234\n",
              "4    12317\n",
              "3     3641\n",
              "2      735\n",
              "1       72\n",
              "0        1\n",
              "Name: Severity, dtype: int64"
            ]
          },
          "metadata": {
            "tags": []
          },
          "execution_count": 29
        }
      ]
    },
    {
      "cell_type": "code",
      "metadata": {
        "id": "NmP7YkJeyXx_",
        "colab": {
          "base_uri": "https://localhost:8080/"
        },
        "outputId": "bcc2a701-6ceb-47f0-b063-8e354678d307"
      },
      "source": [
        "manual[\"Hairfall\"][0:10000] = np.random.randint(0,2 ,size = 10000)\n",
        "manual[\"Hairfall\"][10000:20000] = np.random.randint(2,4,size = 10000)\n",
        "manual[\"Hairfall\"][30000:40000] = np.random.randint(3,5 ,size = 10000)\n"
      ],
      "execution_count": 30,
      "outputs": [
        {
          "output_type": "stream",
          "text": [
            "/usr/local/lib/python3.7/dist-packages/ipykernel_launcher.py:1: SettingWithCopyWarning: \n",
            "A value is trying to be set on a copy of a slice from a DataFrame\n",
            "\n",
            "See the caveats in the documentation: https://pandas.pydata.org/pandas-docs/stable/user_guide/indexing.html#returning-a-view-versus-a-copy\n",
            "  \"\"\"Entry point for launching an IPython kernel.\n",
            "/usr/local/lib/python3.7/dist-packages/ipykernel_launcher.py:2: SettingWithCopyWarning: \n",
            "A value is trying to be set on a copy of a slice from a DataFrame\n",
            "\n",
            "See the caveats in the documentation: https://pandas.pydata.org/pandas-docs/stable/user_guide/indexing.html#returning-a-view-versus-a-copy\n",
            "  \n",
            "/usr/local/lib/python3.7/dist-packages/ipykernel_launcher.py:3: SettingWithCopyWarning: \n",
            "A value is trying to be set on a copy of a slice from a DataFrame\n",
            "\n",
            "See the caveats in the documentation: https://pandas.pydata.org/pandas-docs/stable/user_guide/indexing.html#returning-a-view-versus-a-copy\n",
            "  This is separate from the ipykernel package so we can avoid doing imports until\n"
          ],
          "name": "stderr"
        }
      ]
    },
    {
      "cell_type": "code",
      "metadata": {
        "id": "l8dNwG2e0zrn",
        "colab": {
          "base_uri": "https://localhost:8080/"
        },
        "outputId": "fad8fe16-d175-423d-c2cc-4f407ed21f2b"
      },
      "source": [
        "manual[\"Body pain\"].value_counts()"
      ],
      "execution_count": 31,
      "outputs": [
        {
          "output_type": "execute_result",
          "data": {
            "text/plain": [
              "4    8401\n",
              "1    8378\n",
              "2    8376\n",
              "0    8299\n",
              "5    8293\n",
              "3    8253\n",
              "Name: Body pain, dtype: int64"
            ]
          },
          "metadata": {
            "tags": []
          },
          "execution_count": 31
        }
      ]
    },
    {
      "cell_type": "code",
      "metadata": {
        "id": "nX-eivOEz-wr",
        "colab": {
          "base_uri": "https://localhost:8080/",
          "height": 204
        },
        "outputId": "b1492b41-2790-4f23-bfd5-e0715e7c16f2"
      },
      "source": [
        "manual.head()"
      ],
      "execution_count": 32,
      "outputs": [
        {
          "output_type": "execute_result",
          "data": {
            "text/html": [
              "<div>\n",
              "<style scoped>\n",
              "    .dataframe tbody tr th:only-of-type {\n",
              "        vertical-align: middle;\n",
              "    }\n",
              "\n",
              "    .dataframe tbody tr th {\n",
              "        vertical-align: top;\n",
              "    }\n",
              "\n",
              "    .dataframe thead th {\n",
              "        text-align: right;\n",
              "    }\n",
              "</style>\n",
              "<table border=\"1\" class=\"dataframe\">\n",
              "  <thead>\n",
              "    <tr style=\"text-align: right;\">\n",
              "      <th></th>\n",
              "      <th>uniqueID</th>\n",
              "      <th>check_in date</th>\n",
              "      <th>Hairfall</th>\n",
              "      <th>Rashes</th>\n",
              "      <th>Upset stomach</th>\n",
              "      <th>Fever</th>\n",
              "      <th>Body pain</th>\n",
              "      <th>Headache</th>\n",
              "      <th>Severity</th>\n",
              "    </tr>\n",
              "  </thead>\n",
              "  <tbody>\n",
              "    <tr>\n",
              "      <th>0</th>\n",
              "      <td>15</td>\n",
              "      <td>NaN</td>\n",
              "      <td>0</td>\n",
              "      <td>5</td>\n",
              "      <td>4</td>\n",
              "      <td>0</td>\n",
              "      <td>3</td>\n",
              "      <td>2</td>\n",
              "      <td>5</td>\n",
              "    </tr>\n",
              "    <tr>\n",
              "      <th>1</th>\n",
              "      <td>4</td>\n",
              "      <td>NaN</td>\n",
              "      <td>0</td>\n",
              "      <td>3</td>\n",
              "      <td>5</td>\n",
              "      <td>2</td>\n",
              "      <td>1</td>\n",
              "      <td>1</td>\n",
              "      <td>5</td>\n",
              "    </tr>\n",
              "    <tr>\n",
              "      <th>2</th>\n",
              "      <td>14</td>\n",
              "      <td>NaN</td>\n",
              "      <td>0</td>\n",
              "      <td>0</td>\n",
              "      <td>2</td>\n",
              "      <td>2</td>\n",
              "      <td>0</td>\n",
              "      <td>4</td>\n",
              "      <td>4</td>\n",
              "    </tr>\n",
              "    <tr>\n",
              "      <th>3</th>\n",
              "      <td>3</td>\n",
              "      <td>NaN</td>\n",
              "      <td>0</td>\n",
              "      <td>1</td>\n",
              "      <td>1</td>\n",
              "      <td>4</td>\n",
              "      <td>4</td>\n",
              "      <td>2</td>\n",
              "      <td>4</td>\n",
              "    </tr>\n",
              "    <tr>\n",
              "      <th>4</th>\n",
              "      <td>4</td>\n",
              "      <td>NaN</td>\n",
              "      <td>1</td>\n",
              "      <td>2</td>\n",
              "      <td>5</td>\n",
              "      <td>4</td>\n",
              "      <td>2</td>\n",
              "      <td>1</td>\n",
              "      <td>5</td>\n",
              "    </tr>\n",
              "  </tbody>\n",
              "</table>\n",
              "</div>"
            ],
            "text/plain": [
              "   uniqueID check_in date  Hairfall  ...  Body pain  Headache  Severity\n",
              "0        15           NaN         0  ...          3         2         5\n",
              "1         4           NaN         0  ...          1         1         5\n",
              "2        14           NaN         0  ...          0         4         4\n",
              "3         3           NaN         0  ...          4         2         4\n",
              "4         4           NaN         1  ...          2         1         5\n",
              "\n",
              "[5 rows x 9 columns]"
            ]
          },
          "metadata": {
            "tags": []
          },
          "execution_count": 32
        }
      ]
    },
    {
      "cell_type": "code",
      "metadata": {
        "id": "4PDsn61J0E64"
      },
      "source": [
        "manual['Severity'] = manual[['Hairfall','Rashes','Upset stomach','Fever','Body pain','Headache']].max(axis=1)\n"
      ],
      "execution_count": 33,
      "outputs": []
    },
    {
      "cell_type": "code",
      "metadata": {
        "id": "CFlWNywc0P4d",
        "colab": {
          "base_uri": "https://localhost:8080/"
        },
        "outputId": "3178c423-92eb-41b7-fd97-dff09f5fbefc"
      },
      "source": [
        "manual[\"Severity\"].value_counts()"
      ],
      "execution_count": 34,
      "outputs": [
        {
          "output_type": "execute_result",
          "data": {
            "text/plain": [
              "5    31232\n",
              "4    13746\n",
              "3     4277\n",
              "2      670\n",
              "1       74\n",
              "0        1\n",
              "Name: Severity, dtype: int64"
            ]
          },
          "metadata": {
            "tags": []
          },
          "execution_count": 34
        }
      ]
    },
    {
      "cell_type": "code",
      "metadata": {
        "id": "chZwgLil28Nb",
        "colab": {
          "base_uri": "https://localhost:8080/",
          "height": 669
        },
        "outputId": "c21cbc34-ca6b-45f7-e210-9d5e6b28d269"
      },
      "source": [
        "manual.head(20)"
      ],
      "execution_count": 35,
      "outputs": [
        {
          "output_type": "execute_result",
          "data": {
            "text/html": [
              "<div>\n",
              "<style scoped>\n",
              "    .dataframe tbody tr th:only-of-type {\n",
              "        vertical-align: middle;\n",
              "    }\n",
              "\n",
              "    .dataframe tbody tr th {\n",
              "        vertical-align: top;\n",
              "    }\n",
              "\n",
              "    .dataframe thead th {\n",
              "        text-align: right;\n",
              "    }\n",
              "</style>\n",
              "<table border=\"1\" class=\"dataframe\">\n",
              "  <thead>\n",
              "    <tr style=\"text-align: right;\">\n",
              "      <th></th>\n",
              "      <th>uniqueID</th>\n",
              "      <th>check_in date</th>\n",
              "      <th>Hairfall</th>\n",
              "      <th>Rashes</th>\n",
              "      <th>Upset stomach</th>\n",
              "      <th>Fever</th>\n",
              "      <th>Body pain</th>\n",
              "      <th>Headache</th>\n",
              "      <th>Severity</th>\n",
              "    </tr>\n",
              "  </thead>\n",
              "  <tbody>\n",
              "    <tr>\n",
              "      <th>0</th>\n",
              "      <td>15</td>\n",
              "      <td>NaN</td>\n",
              "      <td>0</td>\n",
              "      <td>5</td>\n",
              "      <td>4</td>\n",
              "      <td>0</td>\n",
              "      <td>3</td>\n",
              "      <td>2</td>\n",
              "      <td>5</td>\n",
              "    </tr>\n",
              "    <tr>\n",
              "      <th>1</th>\n",
              "      <td>4</td>\n",
              "      <td>NaN</td>\n",
              "      <td>0</td>\n",
              "      <td>3</td>\n",
              "      <td>5</td>\n",
              "      <td>2</td>\n",
              "      <td>1</td>\n",
              "      <td>1</td>\n",
              "      <td>5</td>\n",
              "    </tr>\n",
              "    <tr>\n",
              "      <th>2</th>\n",
              "      <td>14</td>\n",
              "      <td>NaN</td>\n",
              "      <td>0</td>\n",
              "      <td>0</td>\n",
              "      <td>2</td>\n",
              "      <td>2</td>\n",
              "      <td>0</td>\n",
              "      <td>4</td>\n",
              "      <td>4</td>\n",
              "    </tr>\n",
              "    <tr>\n",
              "      <th>3</th>\n",
              "      <td>3</td>\n",
              "      <td>NaN</td>\n",
              "      <td>0</td>\n",
              "      <td>1</td>\n",
              "      <td>1</td>\n",
              "      <td>4</td>\n",
              "      <td>4</td>\n",
              "      <td>2</td>\n",
              "      <td>4</td>\n",
              "    </tr>\n",
              "    <tr>\n",
              "      <th>4</th>\n",
              "      <td>4</td>\n",
              "      <td>NaN</td>\n",
              "      <td>1</td>\n",
              "      <td>2</td>\n",
              "      <td>5</td>\n",
              "      <td>4</td>\n",
              "      <td>2</td>\n",
              "      <td>1</td>\n",
              "      <td>5</td>\n",
              "    </tr>\n",
              "    <tr>\n",
              "      <th>5</th>\n",
              "      <td>10</td>\n",
              "      <td>NaN</td>\n",
              "      <td>0</td>\n",
              "      <td>2</td>\n",
              "      <td>2</td>\n",
              "      <td>2</td>\n",
              "      <td>3</td>\n",
              "      <td>5</td>\n",
              "      <td>5</td>\n",
              "    </tr>\n",
              "    <tr>\n",
              "      <th>6</th>\n",
              "      <td>5</td>\n",
              "      <td>NaN</td>\n",
              "      <td>1</td>\n",
              "      <td>3</td>\n",
              "      <td>0</td>\n",
              "      <td>0</td>\n",
              "      <td>5</td>\n",
              "      <td>2</td>\n",
              "      <td>5</td>\n",
              "    </tr>\n",
              "    <tr>\n",
              "      <th>7</th>\n",
              "      <td>10</td>\n",
              "      <td>NaN</td>\n",
              "      <td>0</td>\n",
              "      <td>3</td>\n",
              "      <td>4</td>\n",
              "      <td>4</td>\n",
              "      <td>2</td>\n",
              "      <td>0</td>\n",
              "      <td>4</td>\n",
              "    </tr>\n",
              "    <tr>\n",
              "      <th>8</th>\n",
              "      <td>11</td>\n",
              "      <td>NaN</td>\n",
              "      <td>0</td>\n",
              "      <td>2</td>\n",
              "      <td>2</td>\n",
              "      <td>5</td>\n",
              "      <td>4</td>\n",
              "      <td>5</td>\n",
              "      <td>5</td>\n",
              "    </tr>\n",
              "    <tr>\n",
              "      <th>9</th>\n",
              "      <td>7</td>\n",
              "      <td>NaN</td>\n",
              "      <td>1</td>\n",
              "      <td>0</td>\n",
              "      <td>2</td>\n",
              "      <td>0</td>\n",
              "      <td>5</td>\n",
              "      <td>2</td>\n",
              "      <td>5</td>\n",
              "    </tr>\n",
              "    <tr>\n",
              "      <th>10</th>\n",
              "      <td>5</td>\n",
              "      <td>NaN</td>\n",
              "      <td>0</td>\n",
              "      <td>5</td>\n",
              "      <td>2</td>\n",
              "      <td>2</td>\n",
              "      <td>5</td>\n",
              "      <td>4</td>\n",
              "      <td>5</td>\n",
              "    </tr>\n",
              "    <tr>\n",
              "      <th>11</th>\n",
              "      <td>1</td>\n",
              "      <td>NaN</td>\n",
              "      <td>0</td>\n",
              "      <td>1</td>\n",
              "      <td>0</td>\n",
              "      <td>1</td>\n",
              "      <td>4</td>\n",
              "      <td>1</td>\n",
              "      <td>4</td>\n",
              "    </tr>\n",
              "    <tr>\n",
              "      <th>12</th>\n",
              "      <td>14</td>\n",
              "      <td>NaN</td>\n",
              "      <td>0</td>\n",
              "      <td>4</td>\n",
              "      <td>1</td>\n",
              "      <td>1</td>\n",
              "      <td>1</td>\n",
              "      <td>1</td>\n",
              "      <td>4</td>\n",
              "    </tr>\n",
              "    <tr>\n",
              "      <th>13</th>\n",
              "      <td>11</td>\n",
              "      <td>NaN</td>\n",
              "      <td>1</td>\n",
              "      <td>5</td>\n",
              "      <td>2</td>\n",
              "      <td>2</td>\n",
              "      <td>0</td>\n",
              "      <td>5</td>\n",
              "      <td>5</td>\n",
              "    </tr>\n",
              "    <tr>\n",
              "      <th>14</th>\n",
              "      <td>6</td>\n",
              "      <td>NaN</td>\n",
              "      <td>0</td>\n",
              "      <td>4</td>\n",
              "      <td>1</td>\n",
              "      <td>2</td>\n",
              "      <td>4</td>\n",
              "      <td>1</td>\n",
              "      <td>4</td>\n",
              "    </tr>\n",
              "    <tr>\n",
              "      <th>15</th>\n",
              "      <td>2</td>\n",
              "      <td>NaN</td>\n",
              "      <td>0</td>\n",
              "      <td>5</td>\n",
              "      <td>4</td>\n",
              "      <td>2</td>\n",
              "      <td>5</td>\n",
              "      <td>2</td>\n",
              "      <td>5</td>\n",
              "    </tr>\n",
              "    <tr>\n",
              "      <th>16</th>\n",
              "      <td>11</td>\n",
              "      <td>NaN</td>\n",
              "      <td>1</td>\n",
              "      <td>5</td>\n",
              "      <td>2</td>\n",
              "      <td>1</td>\n",
              "      <td>2</td>\n",
              "      <td>1</td>\n",
              "      <td>5</td>\n",
              "    </tr>\n",
              "    <tr>\n",
              "      <th>17</th>\n",
              "      <td>7</td>\n",
              "      <td>NaN</td>\n",
              "      <td>0</td>\n",
              "      <td>2</td>\n",
              "      <td>4</td>\n",
              "      <td>0</td>\n",
              "      <td>4</td>\n",
              "      <td>2</td>\n",
              "      <td>4</td>\n",
              "    </tr>\n",
              "    <tr>\n",
              "      <th>18</th>\n",
              "      <td>2</td>\n",
              "      <td>NaN</td>\n",
              "      <td>0</td>\n",
              "      <td>3</td>\n",
              "      <td>0</td>\n",
              "      <td>1</td>\n",
              "      <td>5</td>\n",
              "      <td>2</td>\n",
              "      <td>5</td>\n",
              "    </tr>\n",
              "    <tr>\n",
              "      <th>19</th>\n",
              "      <td>13</td>\n",
              "      <td>NaN</td>\n",
              "      <td>1</td>\n",
              "      <td>2</td>\n",
              "      <td>3</td>\n",
              "      <td>4</td>\n",
              "      <td>4</td>\n",
              "      <td>5</td>\n",
              "      <td>5</td>\n",
              "    </tr>\n",
              "  </tbody>\n",
              "</table>\n",
              "</div>"
            ],
            "text/plain": [
              "    uniqueID check_in date  Hairfall  ...  Body pain  Headache  Severity\n",
              "0         15           NaN         0  ...          3         2         5\n",
              "1          4           NaN         0  ...          1         1         5\n",
              "2         14           NaN         0  ...          0         4         4\n",
              "3          3           NaN         0  ...          4         2         4\n",
              "4          4           NaN         1  ...          2         1         5\n",
              "5         10           NaN         0  ...          3         5         5\n",
              "6          5           NaN         1  ...          5         2         5\n",
              "7         10           NaN         0  ...          2         0         4\n",
              "8         11           NaN         0  ...          4         5         5\n",
              "9          7           NaN         1  ...          5         2         5\n",
              "10         5           NaN         0  ...          5         4         5\n",
              "11         1           NaN         0  ...          4         1         4\n",
              "12        14           NaN         0  ...          1         1         4\n",
              "13        11           NaN         1  ...          0         5         5\n",
              "14         6           NaN         0  ...          4         1         4\n",
              "15         2           NaN         0  ...          5         2         5\n",
              "16        11           NaN         1  ...          2         1         5\n",
              "17         7           NaN         0  ...          4         2         4\n",
              "18         2           NaN         0  ...          5         2         5\n",
              "19        13           NaN         1  ...          4         5         5\n",
              "\n",
              "[20 rows x 9 columns]"
            ]
          },
          "metadata": {
            "tags": []
          },
          "execution_count": 35
        }
      ]
    },
    {
      "cell_type": "code",
      "metadata": {
        "id": "YgO72OOm3zri"
      },
      "source": [
        "manual = manual.sample(frac = 1)"
      ],
      "execution_count": 36,
      "outputs": []
    },
    {
      "cell_type": "code",
      "metadata": {
        "id": "J2zQCRJF34c6",
        "colab": {
          "base_uri": "https://localhost:8080/",
          "height": 204
        },
        "outputId": "f7bbf23e-36c5-4784-faee-1892b15885ed"
      },
      "source": [
        "manual.head()"
      ],
      "execution_count": 37,
      "outputs": [
        {
          "output_type": "execute_result",
          "data": {
            "text/html": [
              "<div>\n",
              "<style scoped>\n",
              "    .dataframe tbody tr th:only-of-type {\n",
              "        vertical-align: middle;\n",
              "    }\n",
              "\n",
              "    .dataframe tbody tr th {\n",
              "        vertical-align: top;\n",
              "    }\n",
              "\n",
              "    .dataframe thead th {\n",
              "        text-align: right;\n",
              "    }\n",
              "</style>\n",
              "<table border=\"1\" class=\"dataframe\">\n",
              "  <thead>\n",
              "    <tr style=\"text-align: right;\">\n",
              "      <th></th>\n",
              "      <th>uniqueID</th>\n",
              "      <th>check_in date</th>\n",
              "      <th>Hairfall</th>\n",
              "      <th>Rashes</th>\n",
              "      <th>Upset stomach</th>\n",
              "      <th>Fever</th>\n",
              "      <th>Body pain</th>\n",
              "      <th>Headache</th>\n",
              "      <th>Severity</th>\n",
              "    </tr>\n",
              "  </thead>\n",
              "  <tbody>\n",
              "    <tr>\n",
              "      <th>39057</th>\n",
              "      <td>4</td>\n",
              "      <td>NaN</td>\n",
              "      <td>4</td>\n",
              "      <td>2</td>\n",
              "      <td>2</td>\n",
              "      <td>3</td>\n",
              "      <td>0</td>\n",
              "      <td>4</td>\n",
              "      <td>4</td>\n",
              "    </tr>\n",
              "    <tr>\n",
              "      <th>14936</th>\n",
              "      <td>8</td>\n",
              "      <td>NaN</td>\n",
              "      <td>3</td>\n",
              "      <td>1</td>\n",
              "      <td>1</td>\n",
              "      <td>4</td>\n",
              "      <td>5</td>\n",
              "      <td>4</td>\n",
              "      <td>5</td>\n",
              "    </tr>\n",
              "    <tr>\n",
              "      <th>877</th>\n",
              "      <td>6</td>\n",
              "      <td>NaN</td>\n",
              "      <td>1</td>\n",
              "      <td>3</td>\n",
              "      <td>5</td>\n",
              "      <td>1</td>\n",
              "      <td>5</td>\n",
              "      <td>2</td>\n",
              "      <td>5</td>\n",
              "    </tr>\n",
              "    <tr>\n",
              "      <th>31166</th>\n",
              "      <td>11</td>\n",
              "      <td>NaN</td>\n",
              "      <td>4</td>\n",
              "      <td>5</td>\n",
              "      <td>5</td>\n",
              "      <td>5</td>\n",
              "      <td>4</td>\n",
              "      <td>2</td>\n",
              "      <td>5</td>\n",
              "    </tr>\n",
              "    <tr>\n",
              "      <th>16484</th>\n",
              "      <td>9</td>\n",
              "      <td>NaN</td>\n",
              "      <td>3</td>\n",
              "      <td>5</td>\n",
              "      <td>2</td>\n",
              "      <td>4</td>\n",
              "      <td>4</td>\n",
              "      <td>3</td>\n",
              "      <td>5</td>\n",
              "    </tr>\n",
              "  </tbody>\n",
              "</table>\n",
              "</div>"
            ],
            "text/plain": [
              "       uniqueID check_in date  Hairfall  ...  Body pain  Headache  Severity\n",
              "39057         4           NaN         4  ...          0         4         4\n",
              "14936         8           NaN         3  ...          5         4         5\n",
              "877           6           NaN         1  ...          5         2         5\n",
              "31166        11           NaN         4  ...          4         2         5\n",
              "16484         9           NaN         3  ...          4         3         5\n",
              "\n",
              "[5 rows x 9 columns]"
            ]
          },
          "metadata": {
            "tags": []
          },
          "execution_count": 37
        }
      ]
    },
    {
      "cell_type": "code",
      "metadata": {
        "id": "jc6Swxqs4E95",
        "colab": {
          "base_uri": "https://localhost:8080/"
        },
        "outputId": "25ee6c9b-922e-4e71-b6ef-952b56f26043"
      },
      "source": [
        "manual[\"Severity\"].value_counts()"
      ],
      "execution_count": 38,
      "outputs": [
        {
          "output_type": "execute_result",
          "data": {
            "text/plain": [
              "5    31232\n",
              "4    13746\n",
              "3     4277\n",
              "2      670\n",
              "1       74\n",
              "0        1\n",
              "Name: Severity, dtype: int64"
            ]
          },
          "metadata": {
            "tags": []
          },
          "execution_count": 38
        }
      ]
    },
    {
      "cell_type": "code",
      "metadata": {
        "id": "x4D03UxZ4inQ",
        "colab": {
          "base_uri": "https://localhost:8080/",
          "height": 204
        },
        "outputId": "36f416d9-f67b-4543-9997-3c014c89aabb"
      },
      "source": [
        "manual.head()"
      ],
      "execution_count": 39,
      "outputs": [
        {
          "output_type": "execute_result",
          "data": {
            "text/html": [
              "<div>\n",
              "<style scoped>\n",
              "    .dataframe tbody tr th:only-of-type {\n",
              "        vertical-align: middle;\n",
              "    }\n",
              "\n",
              "    .dataframe tbody tr th {\n",
              "        vertical-align: top;\n",
              "    }\n",
              "\n",
              "    .dataframe thead th {\n",
              "        text-align: right;\n",
              "    }\n",
              "</style>\n",
              "<table border=\"1\" class=\"dataframe\">\n",
              "  <thead>\n",
              "    <tr style=\"text-align: right;\">\n",
              "      <th></th>\n",
              "      <th>uniqueID</th>\n",
              "      <th>check_in date</th>\n",
              "      <th>Hairfall</th>\n",
              "      <th>Rashes</th>\n",
              "      <th>Upset stomach</th>\n",
              "      <th>Fever</th>\n",
              "      <th>Body pain</th>\n",
              "      <th>Headache</th>\n",
              "      <th>Severity</th>\n",
              "    </tr>\n",
              "  </thead>\n",
              "  <tbody>\n",
              "    <tr>\n",
              "      <th>39057</th>\n",
              "      <td>4</td>\n",
              "      <td>NaN</td>\n",
              "      <td>4</td>\n",
              "      <td>2</td>\n",
              "      <td>2</td>\n",
              "      <td>3</td>\n",
              "      <td>0</td>\n",
              "      <td>4</td>\n",
              "      <td>4</td>\n",
              "    </tr>\n",
              "    <tr>\n",
              "      <th>14936</th>\n",
              "      <td>8</td>\n",
              "      <td>NaN</td>\n",
              "      <td>3</td>\n",
              "      <td>1</td>\n",
              "      <td>1</td>\n",
              "      <td>4</td>\n",
              "      <td>5</td>\n",
              "      <td>4</td>\n",
              "      <td>5</td>\n",
              "    </tr>\n",
              "    <tr>\n",
              "      <th>877</th>\n",
              "      <td>6</td>\n",
              "      <td>NaN</td>\n",
              "      <td>1</td>\n",
              "      <td>3</td>\n",
              "      <td>5</td>\n",
              "      <td>1</td>\n",
              "      <td>5</td>\n",
              "      <td>2</td>\n",
              "      <td>5</td>\n",
              "    </tr>\n",
              "    <tr>\n",
              "      <th>31166</th>\n",
              "      <td>11</td>\n",
              "      <td>NaN</td>\n",
              "      <td>4</td>\n",
              "      <td>5</td>\n",
              "      <td>5</td>\n",
              "      <td>5</td>\n",
              "      <td>4</td>\n",
              "      <td>2</td>\n",
              "      <td>5</td>\n",
              "    </tr>\n",
              "    <tr>\n",
              "      <th>16484</th>\n",
              "      <td>9</td>\n",
              "      <td>NaN</td>\n",
              "      <td>3</td>\n",
              "      <td>5</td>\n",
              "      <td>2</td>\n",
              "      <td>4</td>\n",
              "      <td>4</td>\n",
              "      <td>3</td>\n",
              "      <td>5</td>\n",
              "    </tr>\n",
              "  </tbody>\n",
              "</table>\n",
              "</div>"
            ],
            "text/plain": [
              "       uniqueID check_in date  Hairfall  ...  Body pain  Headache  Severity\n",
              "39057         4           NaN         4  ...          0         4         4\n",
              "14936         8           NaN         3  ...          5         4         5\n",
              "877           6           NaN         1  ...          5         2         5\n",
              "31166        11           NaN         4  ...          4         2         5\n",
              "16484         9           NaN         3  ...          4         3         5\n",
              "\n",
              "[5 rows x 9 columns]"
            ]
          },
          "metadata": {
            "tags": []
          },
          "execution_count": 39
        }
      ]
    },
    {
      "cell_type": "code",
      "metadata": {
        "id": "pNkBe8S55Ovd",
        "colab": {
          "base_uri": "https://localhost:8080/"
        },
        "outputId": "45838a2e-583e-4a8e-914c-f1a6e8319dca"
      },
      "source": [
        "np.random.seed(2)  \n",
        "numbers = np.random.choice(range(96233,500000), size=1000, replace=False)\n",
        "len(np.unique(numbers))"
      ],
      "execution_count": 40,
      "outputs": [
        {
          "output_type": "execute_result",
          "data": {
            "text/plain": [
              "1000"
            ]
          },
          "metadata": {
            "tags": []
          },
          "execution_count": 40
        }
      ]
    },
    {
      "cell_type": "code",
      "metadata": {
        "id": "HU1BFq0G5V0v"
      },
      "source": [
        "manual[\"uniqueID\"] = np.random.randint(1,1001 , 50000)"
      ],
      "execution_count": null,
      "outputs": []
    },
    {
      "cell_type": "code",
      "metadata": {
        "id": "CWsn8xUj6Rll"
      },
      "source": [
        "manual[\"uniqueID\"].value_counts()"
      ],
      "execution_count": null,
      "outputs": []
    },
    {
      "cell_type": "code",
      "metadata": {
        "id": "yA-Hk9dX8Dh2"
      },
      "source": [
        "dict = {1: '178948', 2: '32822', 3: '82188', 4: '156730', 5: '156544', 6: '165013', 7: '185739', 8: '116064', 9: '39880', 10: '95538', 11: '75612', 12: '96233', 13: '121333', 14: '131909', 15: '171349', 16: '362949', 17: '433198', 18: '448946', 19: '298785', 20: '247742', 21: '434051', 22: '172837', 23: '475508', 24: '449038', 25: '323611', 26: '192215', 27: '359756', 28: '186081', 29: '348206', 30: '152219', 31: '225377', 32: '434991', 33: '261490', 34: '402432', 35: '370889', 36: '241788', 37: '116166', 38: '218159', 39: '209511', 40: '308215', 41: '496055', 42: '491765', 43: '450459', 44: '353274', 45: '433504', 46: '167314', 47: '184260', 48: '123292', 49: '193756', 50: '130981', 51: '199981', 52: '430777', 53: '103546', 54: '130284', 55: '274246', 56: '387056', 57: '345098', 58: '232975', 59: '212625', 60: '441396', 61: '102613', 62: '102989', 63: '119679', 64: '183684', 65: '343341', 66: '257260', 67: '111248', 68: '384702', 69: '154211', 70: '221855', 71: '144578', 72: '330531', 73: '152535', 74: '168624', 75: '268609', 76: '492620', 77: '330675', 78: '474767', 79: '173750', 80: '406321', 81: '476204', 82: '469689', 83: '375035', 84: '161133', 85: '398787', 86: '389771', 87: '382812', 88: '103725', 89: '481620', 90: '173586', 91: '413779', 92: '320810', 93: '315812', 94: '310258', 95: '224857', 96: '111857', 97: '491653', 98: '120938', 99: '326649', 100: '394850', 101: '361080', 102: '461257', 103: '294552', 104: '125167', 105: '224269', 106: '244236', 107: '284313', 108: '297481', 109: '461666', 110: '208288', 111: '337695', 112: '406037', 113: '236607', 114: '210858', 115: '132354', 116: '466486', 117: '429580', 118: '472925', 119: '121004', 120: '168891', 121: '375345', 122: '156433', 123: '423126', 124: '448693', 125: '482750', 126: '161398', 127: '280974', 128: '124434', 129: '119424', 130: '157237', 131: '233883', 132: '191045', 133: '301117', 134: '294757', 135: '316169', 136: '108642', 137: '457758', 138: '299435', 139: '133318', 140: '239478', 141: '478034', 142: '142186', 143: '169787', 144: '112908', 145: '120102', 146: '272408', 147: '381441', 148: '441930', 149: '257415', 150: '109919', 151: '344802', 152: '493030', 153: '454194', 154: '134073', 155: '479318', 156: '401103', 157: '118150', 158: '258974', 159: '324271', 160: '403100', 161: '187096', 162: '233080', 163: '202404', 164: '125092', 165: '475563', 166: '224399', 167: '358280', 168: '291687', 169: '388579', 170: '110244', 171: '387544', 172: '457281', 173: '121751', 174: '118343', 175: '96571', 176: '190158', 177: '380477', 178: '307627', 179: '406217', 180: '486964', 181: '281106', 182: '458621', 183: '496072', 184: '334645', 185: '273291', 186: '381782', 187: '125841', 188: '143194', 189: '174928', 190: '117695', 191: '316609', 192: '130946', 193: '137727', 194: '315294', 195: '337421', 196: '420808', 197: '173769', 198: '194699', 199: '187551', 200: '176442', 201: '420404', 202: '171004', 203: '169343', 204: '356176', 205: '492094', 206: '194120', 207: '142741', 208: '126378', 209: '134304', 210: '334771', 211: '261667', 212: '498169', 213: '207419', 214: '112996', 215: '200924', 216: '429489', 217: '326196', 218: '106883', 219: '379833', 220: '185972', 221: '239657', 222: '131622', 223: '317628', 224: '470735', 225: '227980', 226: '474869', 227: '119553', 228: '379850', 229: '243190', 230: '444206', 231: '333858', 232: '251427', 233: '248538', 234: '386052', 235: '400076', 236: '371320', 237: '187233', 238: '96236', 239: '314352', 240: '423993', 241: '226144', 242: '152843', 243: '201683', 244: '141305', 245: '288447', 246: '344911', 247: '248345', 248: '290306', 249: '391655', 250: '469579', 251: '402002', 252: '305566', 253: '350797', 254: '331960', 255: '115331', 256: '227118', 257: '384522', 258: '205389', 259: '133109', 260: '192148', 261: '251660', 262: '193878', 263: '133194', 264: '249727', 265: '279155', 266: '321068', 267: '221533', 268: '142771', 269: '124960', 270: '151955', 271: '177987', 272: '381126', 273: '414326', 274: '245619', 275: '369008', 276: '351050', 277: '446556', 278: '359030', 279: '262481', 280: '153167', 281: '184667', 282: '460843', 283: '337436', 284: '210794', 285: '292842', 286: '202795', 287: '388848', 288: '381849', 289: '155684', 290: '231840', 291: '193084', 292: '194550', 293: '321137', 294: '453116', 295: '191104', 296: '111555', 297: '297442', 298: '288436', 299: '117888', 300: '258111', 301: '464885', 302: '178311', 303: '168616', 304: '293100', 305: '137668', 306: '98326', 307: '301675', 308: '307263', 309: '185739', 310: '466868', 311: '165400', 312: '197824', 313: '152186', 314: '199395', 315: '185706', 316: '338899', 317: '202718', 318: '264324', 319: '349345', 320: '409500', 321: '353955', 322: '472906', 323: '141975', 324: '412827', 325: '492923', 326: '369762', 327: '290364', 328: '263087', 329: '177047', 330: '471227', 331: '205554', 332: '292596', 333: '338856', 334: '344303', 335: '344974', 336: '206308', 337: '387821', 338: '323452', 339: '373741', 340: '120025', 341: '325736', 342: '305549', 343: '431078', 344: '186226', 345: '151379', 346: '406893', 347: '189314', 348: '286977', 349: '193992', 350: '399870', 351: '297895', 352: '110363', 353: '163428', 354: '220316', 355: '255694', 356: '192200', 357: '148561', 358: '486412', 359: '187924', 360: '141361', 361: '264535', 362: '180017', 363: '266158', 364: '299974', 365: '484187', 366: '225997', 367: '383715', 368: '355433', 369: '212222', 370: '265319', 371: '473455', 372: '362353', 373: '230998', 374: '432106', 375: '499978', 376: '139758', 377: '489090', 378: '398647', 379: '449363', 380: '278570', 381: '211529', 382: '191826', 383: '226269', 384: '434372', 385: '370246', 386: '378082', 387: '123501', 388: '393303', 389: '457836', 390: '327798', 391: '335023', 392: '377410', 393: '236370', 394: '340246', 395: '200903', 396: '109877', 397: '324577', 398: '334945', 399: '398415', 400: '441584', 401: '387220', 402: '429572', 403: '428106', 404: '215836', 405: '423117', 406: '190103', 407: '130955', 408: '275170', 409: '107106', 410: '136871', 411: '204791', 412: '236226', 413: '379600', 414: '434853', 415: '479421', 416: '208113', 417: '281105', 418: '479102', 419: '250605', 420: '284282', 421: '264907', 422: '198633', 423: '286714', 424: '342118', 425: '102272', 426: '480791', 427: '318134', 428: '350993', 429: '320577', 430: '269551', 431: '377051', 432: '203995', 433: '219849', 434: '205720', 435: '313547', 436: '324683', 437: '282363', 438: '315651', 439: '485620', 440: '310262', 441: '427681', 442: '116751', 443: '419750', 444: '258305', 445: '434662', 446: '452032', 447: '202812', 448: '120502', 449: '235434', 450: '468521', 451: '319045', 452: '483866', 453: '109367', 454: '181494', 455: '469577', 456: '453965', 457: '177708', 458: '391113', 459: '411761', 460: '318995', 461: '462723', 462: '176986', 463: '360402', 464: '420678', 465: '288205', 466: '276207', 467: '207023', 468: '482432', 469: '357419', 470: '243651', 471: '465672', 472: '116593', 473: '407313', 474: '198294', 475: '138665', 476: '416697', 477: '471584', 478: '439441', 479: '148194', 480: '315615', 481: '112165', 482: '253685', 483: '292982', 484: '256654', 485: '167071', 486: '320380', 487: '114492', 488: '401757', 489: '431445', 490: '254157', 491: '167790', 492: '497882', 493: '253676', 494: '139702', 495: '239737', 496: '417919', 497: '345243', 498: '409436', 499: '492648', 500: '112358', 501: '289426', 502: '265861', 503: '461412', 504: '258257', 505: '437013', 506: '472371', 507: '230521', 508: '191439', 509: '406312', 510: '342492', 511: '301539', 512: '198874', 513: '147483', 514: '190253', 515: '347556', 516: '389905', 517: '336845', 518: '369558', 519: '358019', 520: '352380', 521: '233604', 522: '280203', 523: '482371', 524: '326143', 525: '444880', 526: '192364', 527: '237253', 528: '472868', 529: '468793', 530: '153738', 531: '146449', 532: '218316', 533: '261496', 534: '201664', 535: '157949', 536: '329572', 537: '137975', 538: '498494', 539: '498595', 540: '363822', 541: '260219', 542: '363548', 543: '362493', 544: '219250', 545: '132970', 546: '471544', 547: '207608', 548: '452788', 549: '258210', 550: '133631', 551: '297497', 552: '396667', 553: '481421', 554: '282773', 555: '438960', 556: '283357', 557: '455286', 558: '394213', 559: '355943', 560: '390856', 561: '240909', 562: '330393', 563: '445465', 564: '444164', 565: '449787', 566: '111859', 567: '211143', 568: '168140', 569: '333332', 570: '423155', 571: '147484', 572: '294770', 573: '236759', 574: '483452', 575: '304086', 576: '325260', 577: '306354', 578: '344923', 579: '107577', 580: '251564', 581: '371094', 582: '366695', 583: '378978', 584: '455489', 585: '432421', 586: '466318', 587: '236927', 588: '374351', 589: '162618', 590: '285520', 591: '184413', 592: '124124', 593: '473855', 594: '242537', 595: '453078', 596: '148986', 597: '471813', 598: '198086', 599: '195096', 600: '169190', 601: '369847', 602: '435671', 603: '385590', 604: '391210', 605: '254771', 606: '118339', 607: '119829', 608: '443909', 609: '137923', 610: '172585', 611: '300351', 612: '287971', 613: '338736', 614: '326521', 615: '98867', 616: '116612', 617: '175650', 618: '120602', 619: '497571', 620: '427753', 621: '218755', 622: '275910', 623: '152494', 624: '107122', 625: '425459', 626: '433343', 627: '355873', 628: '345236', 629: '166547', 630: '188155', 631: '307201', 632: '201371', 633: '299253', 634: '354709', 635: '235500', 636: '159788', 637: '148683', 638: '170931', 639: '242648', 640: '338466', 641: '482203', 642: '170019', 643: '128124', 644: '397759', 645: '461690', 646: '183796', 647: '310287', 648: '114932', 649: '268505', 650: '275089', 651: '169080', 652: '366612', 653: '171052', 654: '327853', 655: '267843', 656: '280514', 657: '162033', 658: '96516', 659: '461267', 660: '423309', 661: '259310', 662: '198083', 663: '270744', 664: '167840', 665: '245071', 666: '496051', 667: '438535', 668: '138390', 669: '403712', 670: '179409', 671: '276164', 672: '265509', 673: '327250', 674: '101461', 675: '402253', 676: '418715', 677: '411956', 678: '318226', 679: '339451', 680: '415900', 681: '360265', 682: '295278', 683: '318515', 684: '489428', 685: '490276', 686: '135095', 687: '179627', 688: '317110', 689: '392714', 690: '327573', 691: '111333', 692: '191791', 693: '100610', 694: '430655', 695: '436872', 696: '359786', 697: '305693', 698: '499488', 699: '374123', 700: '450187', 701: '347269', 702: '121017', 703: '96852', 704: '202396', 705: '177320', 706: '372331', 707: '201160', 708: '220295', 709: '461927', 710: '98527', 711: '304016', 712: '243483', 713: '455173', 714: '454749', 715: '468407', 716: '398296', 717: '99508', 718: '138951', 719: '358783', 720: '176370', 721: '239402', 722: '364072', 723: '440907', 724: '346848', 725: '421596', 726: '317518', 727: '99429', 728: '171322', 729: '460995', 730: '324360', 731: '433029', 732: '300527', 733: '272658', 734: '440852', 735: '127307', 736: '309941', 737: '246491', 738: '381461', 739: '441479', 740: '469360', 741: '303479', 742: '462880', 743: '376464', 744: '202303', 745: '205340', 746: '141092', 747: '275019', 748: '426619', 749: '208006', 750: '151978', 751: '416004', 752: '191346', 753: '158348', 754: '363864', 755: '203808', 756: '222028', 757: '492027', 758: '186940', 759: '234838', 760: '104600', 761: '105750', 762: '343877', 763: '343338', 764: '453028', 765: '281129', 766: '333125', 767: '361666', 768: '464740', 769: '251357', 770: '188605', 771: '388937', 772: '381445', 773: '330696', 774: '136421', 775: '169314', 776: '364301', 777: '464825', 778: '387112', 779: '208866', 780: '117009', 781: '191025', 782: '159769', 783: '306633', 784: '210052', 785: '104231', 786: '366371', 787: '379333', 788: '426909', 789: '223081', 790: '264244', 791: '409844', 792: '305384', 793: '403688', 794: '231356', 795: '298883', 796: '130925', 797: '458000', 798: '394069', 799: '277826', 800: '459694', 801: '329661', 802: '171149', 803: '316257', 804: '386604', 805: '377628', 806: '133181', 807: '233586', 808: '458554', 809: '340226', 810: '362916', 811: '452955', 812: '355670', 813: '385903', 814: '473284', 815: '250427', 816: '136968', 817: '411241', 818: '251128', 819: '160509', 820: '247468', 821: '109840', 822: '430999', 823: '350539', 824: '244159', 825: '294706', 826: '347787', 827: '307888', 828: '170175', 829: '467019', 830: '304358', 831: '223845', 832: '339921', 833: '380951', 834: '407250', 835: '460438', 836: '368742', 837: '189531', 838: '369255', 839: '418822', 840: '102565', 841: '281136', 842: '460380', 843: '336400', 844: '414038', 845: '199478', 846: '103227', 847: '468185', 848: '348070', 849: '97607', 850: '223092', 851: '284075', 852: '108156', 853: '499931', 854: '382044', 855: '329396', 856: '119093', 857: '113018', 858: '109982', 859: '166169', 860: '498594', 861: '212791', 862: '351689', 863: '481788', 864: '196313', 865: '298499', 866: '332516', 867: '385703', 868: '202921', 869: '309029', 870: '342389', 871: '261595', 872: '113144', 873: '279752', 874: '410654', 875: '493629', 876: '382640', 877: '428375', 878: '499262', 879: '203922', 880: '278080', 881: '208851', 882: '136789', 883: '285953', 884: '105839', 885: '301630', 886: '360625', 887: '291089', 888: '308801', 889: '286219', 890: '125888', 891: '382891', 892: '289491', 893: '199722', 894: '340658', 895: '343124', 896: '202351', 897: '211437', 898: '344871', 899: '292543', 900: '102121', 901: '229740', 902: '363285', 903: '306111', 904: '255457', 905: '358698', 906: '321994', 907: '98972', 908: '138830', 909: '171402', 910: '423437', 911: '296797', 912: '460519', 913: '218538', 914: '301289', 915: '235873', 916: '369087', 917: '470018', 918: '497223', 919: '239561', 920: '181937', 921: '208844', 922: '222769', 923: '444428', 924: '408818', 925: '355602', 926: '275847', 927: '372900', 928: '191110', 929: '193511', 930: '480398', 931: '412971', 932: '322877', 933: '239966', 934: '413094', 935: '395636', 936: '442574', 937: '390039', 938: '419155', 939: '356687', 940: '229817', 941: '339331', 942: '246767', 943: '496495', 944: '351828', 945: '424306', 946: '431411', 947: '374896', 948: '483960', 949: '456319', 950: '178674', 951: '235593', 952: '407504', 953: '108559', 954: '155780', 955: '204915', 956: '354262', 957: '295137', 958: '189597', 959: '384947', 960: '427131', 961: '238372', 962: '116024', 963: '208049', 964: '248786', 965: '339014', 966: '360740', 967: '449513', 968: '421428', 969: '498121', 970: '167749', 971: '340203', 972: '329759', 973: '386157', 974: '262185', 975: '256108', 976: '117520', 977: '277117', 978: '475259', 979: '104236', 980: '164140', 981: '191244', 982: '256134', 983: '167707', 984: '178865', 985: '401367', 986: '281859', 987: '261994', 988: '183521', 989: '376392', 990: '377815', 991: '417577', 992: '132500', 993: '391928', 994: '356618', 995: '277389', 996: '267670', 997: '225514', 998: '467971', 999: '332722', 1000: '269369', 1001: '362949', 1002: '433198', 1003: '448946', 1004: '298785', 1005: '247742', 1006: '434051', 1007: '172837', 1008: '475508', 1009: '449038', 1010: '323611', 1011: '192215', 1012: '359756', 1013: '186081', 1014: '348206', 1015: '152219', 1016: '225377', 1017: '434991', 1018: '261490', 1019: '402432', 1020: '370889', 1021: '241788', 1022: '116166', 1023: '218159', 1024: '209511', 1025: '308215', 1026: '496055', 1027: '491765', 1028: '450459', 1029: '353274', 1030: '433504', 1031: '167314', 1032: '184260', 1033: '123292', 1034: '193756', 1035: '130981', 1036: '199981', 1037: '430777', 1038: '103546', 1039: '130284', 1040: '274246', 1041: '387056', 1042: '345098', 1043: '232975', 1044: '212625', 1045: '441396', 1046: '102613', 1047: '102989', 1048: '119679', 1049: '183684', 1050: '343341', 1051: '257260', 1052: '111248', 1053: '384702', 1054: '154211', 1055: '221855', 1056: '144578', 1057: '330531', 1058: '152535', 1059: '168624', 1060: '268609', 1061: '492620', 1062: '330675', 1063: '474767', 1064: '173750', 1065: '406321', 1066: '476204', 1067: '469689', 1068: '375035', 1069: '161133', 1070: '398787', 1071: '389771', 1072: '382812', 1073: '103725', 1074: '481620', 1075: '173586', 1076: '413779', 1077: '320810', 1078: '315812', 1079: '310258', 1080: '224857', 1081: '111857', 1082: '491653', 1083: '120938', 1084: '326649', 1085: '394850', 1086: '361080', 1087: '461257', 1088: '294552', 1089: '125167', 1090: '224269', 1091: '244236', 1092: '284313', 1093: '297481', 1094: '461666', 1095: '208288', 1096: '337695', 1097: '406037', 1098: '236607', 1099: '210858', 1100: '132354', 1101: '466486', 1102: '429580', 1103: '472925', 1104: '121004', 1105: '168891', 1106: '375345', 1107: '156433', 1108: '423126', 1109: '448693', 1110: '482750', 1111: '161398', 1112: '280974', 1113: '124434', 1114: '119424', 1115: '157237', 1116: '233883', 1117: '191045', 1118: '301117', 1119: '294757', 1120: '316169', 1121: '108642', 1122: '457758', 1123: '299435', 1124: '133318', 1125: '239478', 1126: '478034', 1127: '142186', 1128: '169787', 1129: '112908', 1130: '120102', 1131: '272408', 1132: '381441', 1133: '441930', 1134: '257415', 1135: '109919', 1136: '344802', 1137: '493030', 1138: '454194', 1139: '134073', 1140: '479318', 1141: '401103', 1142: '118150', 1143: '258974', 1144: '324271', 1145: '403100', 1146: '187096', 1147: '233080', 1148: '202404', 1149: '125092', 1150: '475563', 1151: '224399', 1152: '358280', 1153: '291687', 1154: '388579', 1155: '110244', 1156: '387544', 1157: '457281', 1158: '121751', 1159: '118343', 1160: '96571', 1161: '190158', 1162: '380477', 1163: '307627', 1164: '406217', 1165: '486964', 1166: '281106', 1167: '458621', 1168: '496072', 1169: '334645', 1170: '273291', 1171: '381782', 1172: '125841', 1173: '143194', 1174: '174928', 1175: '117695', 1176: '316609', 1177: '130946', 1178: '137727', 1179: '315294', 1180: '337421', 1181: '420808', 1182: '173769', 1183: '194699', 1184: '187551', 1185: '176442', 1186: '420404', 1187: '171004', 1188: '169343', 1189: '356176', 1190: '492094', 1191: '194120', 1192: '142741', 1193: '126378', 1194: '134304', 1195: '334771', 1196: '261667', 1197: '498169', 1198: '207419', 1199: '112996', 1200: '200924', 1201: '429489', 1202: '326196', 1203: '106883', 1204: '379833', 1205: '185972', 1206: '239657', 1207: '131622', 1208: '317628', 1209: '470735', 1210: '227980', 1211: '474869', 1212: '119553', 1213: '379850', 1214: '243190', 1215: '444206', 1216: '333858', 1217: '251427', 1218: '248538', 1219: '386052', 1220: '400076', 1221: '371320', 1222: '187233', 1223: '96236', 1224: '314352', 1225: '423993', 1226: '226144', 1227: '152843', 1228: '201683', 1229: '141305', 1230: '288447', 1231: '344911', 1232: '248345', 1233: '290306', 1234: '391655', 1235: '469579', 1236: '402002', 1237: '305566', 1238: '350797', 1239: '331960', 1240: '115331', 1241: '227118', 1242: '384522', 1243: '205389', 1244: '133109', 1245: '192148', 1246: '251660', 1247: '193878', 1248: '133194', 1249: '249727', 1250: '279155', 1251: '321068', 1252: '221533', 1253: '142771', 1254: '124960', 1255: '151955', 1256: '177987', 1257: '381126', 1258: '414326', 1259: '245619', 1260: '369008', 1261: '351050', 1262: '446556', 1263: '359030', 1264: '262481', 1265: '153167', 1266: '184667', 1267: '460843', 1268: '337436', 1269: '210794', 1270: '292842', 1271: '202795', 1272: '388848', 1273: '381849', 1274: '155684', 1275: '231840', 1276: '193084', 1277: '194550', 1278: '321137', 1279: '453116', 1280: '191104', 1281: '111555', 1282: '297442', 1283: '288436', 1284: '117888', 1285: '258111', 1286: '464885', 1287: '178311', 1288: '168616', 1289: '293100', 1290: '137668', 1291: '98326', 1292: '301675', 1293: '307263', 1294: '185739', 1295: '466868', 1296: '165400', 1297: '197824', 1298: '152186', 1299: '199395', 1300: '185706', 1301: '338899', 1302: '202718', 1303: '264324', 1304: '349345', 1305: '409500', 1306: '353955', 1307: '472906', 1308: '141975', 1309: '412827', 1310: '492923', 1311: '369762', 1312: '290364', 1313: '263087', 1314: '177047', 1315: '471227', 1316: '205554', 1317: '292596', 1318: '338856', 1319: '344303', 1320: '344974', 1321: '206308', 1322: '387821', 1323: '323452', 1324: '373741', 1325: '120025', 1326: '325736', 1327: '305549', 1328: '431078', 1329: '186226', 1330: '151379', 1331: '406893', 1332: '189314', 1333: '286977', 1334: '193992', 1335: '399870', 1336: '297895', 1337: '110363', 1338: '163428', 1339: '220316', 1340: '255694', 1341: '192200', 1342: '148561', 1343: '486412', 1344: '187924', 1345: '141361', 1346: '264535', 1347: '180017', 1348: '266158', 1349: '299974', 1350: '484187', 1351: '225997', 1352: '383715', 1353: '355433', 1354: '212222', 1355: '265319', 1356: '473455', 1357: '362353', 1358: '230998', 1359: '432106', 1360: '499978', 1361: '139758', 1362: '489090', 1363: '398647', 1364: '449363', 1365: '278570', 1366: '211529', 1367: '191826', 1368: '226269', 1369: '434372', 1370: '370246', 1371: '378082', 1372: '123501', 1373: '393303', 1374: '457836', 1375: '327798', 1376: '335023', 1377: '377410', 1378: '236370', 1379: '340246', 1380: '200903', 1381: '109877', 1382: '324577', 1383: '334945', 1384: '398415', 1385: '441584', 1386: '387220', 1387: '429572', 1388: '428106', 1389: '215836', 1390: '423117', 1391: '190103', 1392: '130955', 1393: '275170', 1394: '107106', 1395: '136871', 1396: '204791', 1397: '236226', 1398: '379600', 1399: '434853', 1400: '479421', 1401: '208113', 1402: '281105', 1403: '479102', 1404: '250605', 1405: '284282', 1406: '264907', 1407: '198633', 1408: '286714', 1409: '342118', 1410: '102272', 1411: '480791', 1412: '318134', 1413: '350993', 1414: '320577', 1415: '269551', 1416: '377051', 1417: '203995', 1418: '219849', 1419: '205720', 1420: '313547', 1421: '324683', 1422: '282363', 1423: '315651', 1424: '485620', 1425: '310262', 1426: '427681', 1427: '116751', 1428: '419750', 1429: '258305', 1430: '434662', 1431: '452032', 1432: '202812', 1433: '120502', 1434: '235434', 1435: '468521', 1436: '319045', 1437: '483866', 1438: '109367', 1439: '181494', 1440: '469577', 1441: '453965', 1442: '177708', 1443: '391113', 1444: '411761', 1445: '318995', 1446: '462723', 1447: '176986', 1448: '360402', 1449: '420678', 1450: '288205', 1451: '276207', 1452: '207023', 1453: '482432', 1454: '357419', 1455: '243651', 1456: '465672', 1457: '116593', 1458: '407313', 1459: '198294', 1460: '138665', 1461: '416697', 1462: '471584', 1463: '439441', 1464: '148194', 1465: '315615', 1466: '112165', 1467: '253685', 1468: '292982', 1469: '256654', 1470: '167071', 1471: '320380', 1472: '114492', 1473: '401757', 1474: '431445', 1475: '254157', 1476: '167790', 1477: '497882', 1478: '253676', 1479: '139702', 1480: '239737', 1481: '417919', 1482: '345243', 1483: '409436', 1484: '492648', 1485: '112358', 1486: '289426', 1487: '265861', 1488: '461412', 1489: '258257', 1490: '437013', 1491: '472371', 1492: '230521', 1493: '191439', 1494: '406312', 1495: '342492', 1496: '301539', 1497: '198874', 1498: '147483', 1499: '190253', 1500: '347556', 1501: '389905', 1502: '336845', 1503: '369558', 1504: '358019', 1505: '352380', 1506: '233604', 1507: '280203', 1508: '482371', 1509: '326143', 1510: '444880', 1511: '192364', 1512: '237253', 1513: '472868', 1514: '468793', 1515: '153738', 1516: '146449', 1517: '218316', 1518: '261496', 1519: '201664', 1520: '157949', 1521: '329572', 1522: '137975', 1523: '498494', 1524: '498595', 1525: '363822', 1526: '260219', 1527: '363548', 1528: '362493', 1529: '219250', 1530: '132970', 1531: '471544', 1532: '207608', 1533: '452788', 1534: '258210', 1535: '133631', 1536: '297497', 1537: '396667', 1538: '481421', 1539: '282773', 1540: '438960', 1541: '283357', 1542: '455286', 1543: '394213', 1544: '355943', 1545: '390856', 1546: '240909', 1547: '330393', 1548: '445465', 1549: '444164', 1550: '449787', 1551: '111859', 1552: '211143', 1553: '168140', 1554: '333332', 1555: '423155', 1556: '147484', 1557: '294770', 1558: '236759', 1559: '483452', 1560: '304086', 1561: '325260', 1562: '306354', 1563: '344923', 1564: '107577', 1565: '251564', 1566: '371094', 1567: '366695', 1568: '378978', 1569: '455489', 1570: '432421', 1571: '466318', 1572: '236927', 1573: '374351', 1574: '162618', 1575: '285520', 1576: '184413', 1577: '124124', 1578: '473855', 1579: '242537', 1580: '453078', 1581: '148986', 1582: '471813', 1583: '198086', 1584: '195096', 1585: '169190', 1586: '369847', 1587: '435671', 1588: '385590', 1589: '391210', 1590: '254771', 1591: '118339', 1592: '119829', 1593: '443909', 1594: '137923', 1595: '172585', 1596: '300351', 1597: '287971', 1598: '338736', 1599: '326521', 1600: '98867', 1601: '116612', 1602: '175650', 1603: '120602', 1604: '497571', 1605: '427753', 1606: '218755', 1607: '275910', 1608: '152494', 1609: '107122', 1610: '425459', 1611: '433343', 1612: '355873', 1613: '345236', 1614: '166547', 1615: '188155', 1616: '307201', 1617: '201371', 1618: '299253', 1619: '354709', 1620: '235500', 1621: '159788', 1622: '148683', 1623: '170931', 1624: '242648', 1625: '338466', 1626: '482203', 1627: '170019', 1628: '128124', 1629: '397759', 1630: '461690', 1631: '183796', 1632: '310287', 1633: '114932', 1634: '268505', 1635: '275089', 1636: '169080', 1637: '366612', 1638: '171052', 1639: '327853', 1640: '267843', 1641: '280514', 1642: '162033', 1643: '96516', 1644: '461267', 1645: '423309', 1646: '259310', 1647: '198083', 1648: '270744', 1649: '167840', 1650: '245071', 1651: '496051', 1652: '438535', 1653: '138390', 1654: '403712', 1655: '179409', 1656: '276164', 1657: '265509', 1658: '327250', 1659: '101461', 1660: '402253', 1661: '418715', 1662: '411956', 1663: '318226', 1664: '339451', 1665: '415900', 1666: '360265', 1667: '295278', 1668: '318515', 1669: '489428', 1670: '490276', 1671: '135095', 1672: '179627', 1673: '317110', 1674: '392714', 1675: '327573', 1676: '111333', 1677: '191791', 1678: '100610', 1679: '430655', 1680: '436872', 1681: '359786', 1682: '305693', 1683: '499488', 1684: '374123', 1685: '450187', 1686: '347269', 1687: '121017', 1688: '96852', 1689: '202396', 1690: '177320', 1691: '372331', 1692: '201160', 1693: '220295', 1694: '461927', 1695: '98527', 1696: '304016', 1697: '243483', 1698: '455173', 1699: '454749', 1700: '468407', 1701: '398296', 1702: '99508', 1703: '138951', 1704: '358783', 1705: '176370', 1706: '239402', 1707: '364072', 1708: '440907', 1709: '346848', 1710: '421596', 1711: '317518', 1712: '99429', 1713: '171322', 1714: '460995', 1715: '324360', 1716: '433029', 1717: '300527', 1718: '272658', 1719: '440852', 1720: '127307', 1721: '309941', 1722: '246491', 1723: '381461', 1724: '441479', 1725: '469360', 1726: '303479', 1727: '462880', 1728: '376464', 1729: '202303', 1730: '205340', 1731: '141092', 1732: '275019', 1733: '426619', 1734: '208006', 1735: '151978', 1736: '416004', 1737: '191346', 1738: '158348', 1739: '363864', 1740: '203808', 1741: '222028', 1742: '492027', 1743: '186940', 1744: '234838', 1745: '104600', 1746: '105750', 1747: '343877', 1748: '343338', 1749: '453028', 1750: '281129', 1751: '333125', 1752: '361666', 1753: '464740', 1754: '251357', 1755: '188605', 1756: '388937', 1757: '381445', 1758: '330696', 1759: '136421', 1760: '169314', 1761: '364301', 1762: '464825', 1763: '387112', 1764: '208866', 1765: '117009', 1766: '191025', 1767: '159769', 1768: '306633', 1769: '210052', 1770: '104231', 1771: '366371', 1772: '379333', 1773: '426909', 1774: '223081', 1775: '264244', 1776: '409844', 1777: '305384', 1778: '403688', 1779: '231356', 1780: '298883', 1781: '130925', 1782: '458000', 1783: '394069', 1784: '277826', 1785: '459694', 1786: '329661', 1787: '171149', 1788: '316257', 1789: '386604', 1790: '377628', 1791: '133181', 1792: '233586', 1793: '458554', 1794: '340226', 1795: '362916', 1796: '452955', 1797: '355670', 1798: '385903', 1799: '473284', 1800: '250427', 1801: '136968', 1802: '411241', 1803: '251128', 1804: '160509', 1805: '247468', 1806: '109840', 1807: '430999', 1808: '350539', 1809: '244159', 1810: '294706', 1811: '347787', 1812: '307888', 1813: '170175', 1814: '467019', 1815: '304358', 1816: '223845', 1817: '339921', 1818: '380951', 1819: '407250', 1820: '460438', 1821: '368742', 1822: '189531', 1823: '369255', 1824: '418822', 1825: '102565', 1826: '281136', 1827: '460380', 1828: '336400', 1829: '414038', 1830: '199478', 1831: '103227', 1832: '468185', 1833: '348070', 1834: '97607', 1835: '223092', 1836: '284075', 1837: '108156', 1838: '499931', 1839: '382044', 1840: '329396', 1841: '119093', 1842: '113018', 1843: '109982', 1844: '166169', 1845: '498594', 1846: '212791', 1847: '351689', 1848: '481788', 1849: '196313', 1850: '298499', 1851: '332516', 1852: '385703', 1853: '202921', 1854: '309029', 1855: '342389', 1856: '261595', 1857: '113144', 1858: '279752', 1859: '410654', 1860: '493629', 1861: '382640', 1862: '428375', 1863: '499262', 1864: '203922', 1865: '278080', 1866: '208851', 1867: '136789', 1868: '285953', 1869: '105839', 1870: '301630', 1871: '360625', 1872: '291089', 1873: '308801', 1874: '286219', 1875: '125888', 1876: '382891', 1877: '289491', 1878: '199722', 1879: '340658', 1880: '343124', 1881: '202351', 1882: '211437', 1883: '344871', 1884: '292543', 1885: '102121', 1886: '229740', 1887: '363285', 1888: '306111', 1889: '255457', 1890: '358698', 1891: '321994', 1892: '98972', 1893: '138830', 1894: '171402', 1895: '423437', 1896: '296797', 1897: '460519', 1898: '218538', 1899: '301289', 1900: '235873', 1901: '369087', 1902: '470018', 1903: '497223', 1904: '239561', 1905: '181937', 1906: '208844', 1907: '222769', 1908: '444428', 1909: '408818', 1910: '355602', 1911: '275847', 1912: '372900', 1913: '191110', 1914: '193511', 1915: '480398', 1916: '412971', 1917: '322877', 1918: '239966', 1919: '413094', 1920: '395636', 1921: '442574', 1922: '390039', 1923: '419155', 1924: '356687', 1925: '229817', 1926: '339331', 1927: '246767', 1928: '496495', 1929: '351828', 1930: '424306', 1931: '431411', 1932: '374896', 1933: '483960', 1934: '456319', 1935: '178674', 1936: '235593', 1937: '407504', 1938: '108559', 1939: '155780', 1940: '204915', 1941: '354262', 1942: '295137', 1943: '189597', 1944: '384947', 1945: '427131', 1946: '238372', 1947: '116024', 1948: '208049', 1949: '248786', 1950: '339014', 1951: '360740', 1952: '449513', 1953: '421428', 1954: '498121', 1955: '167749', 1956: '340203', 1957: '329759', 1958: '386157', 1959: '262185', 1960: '256108', 1961: '117520', 1962: '277117', 1963: '475259', 1964: '104236', 1965: '164140', 1966: '191244', 1967: '256134', 1968: '167707', 1969: '178865', 1970: '401367', 1971: '281859', 1972: '261994', 1973: '183521', 1974: '376392', 1975: '377815', 1976: '417577', 1977: '132500', 1978: '391928', 1979: '356618', 1980: '277389', 1981: '267670', 1982: '225514', 1983: '467971', 1984: '332722', 1985: '269369', 1986: '155394'}"
      ],
      "execution_count": 42,
      "outputs": []
    },
    {
      "cell_type": "code",
      "metadata": {
        "id": "K5V3JSXG_H0v"
      },
      "source": [
        "a1[\"uniqueID\"] = np.random.randint(1,1001 , 50000)"
      ],
      "execution_count": null,
      "outputs": []
    },
    {
      "cell_type": "code",
      "metadata": {
        "id": "wCgsTSPL8wU5"
      },
      "source": [
        "a1['uniqueID'] = a1['uniqueID'].map(dict)"
      ],
      "execution_count": null,
      "outputs": []
    },
    {
      "cell_type": "code",
      "metadata": {
        "id": "Qdm3lgzwd5so"
      },
      "source": [
        "main['uniqueID'] = main['uniqueID'].map(dict)"
      ],
      "execution_count": 43,
      "outputs": []
    },
    {
      "cell_type": "code",
      "metadata": {
        "id": "iOjNMdCb990Q",
        "colab": {
          "base_uri": "https://localhost:8080/",
          "height": 224
        },
        "outputId": "bd29cb9c-f50e-4b79-bb49-7fe462ce93d7"
      },
      "source": [
        "main.head()"
      ],
      "execution_count": 44,
      "outputs": [
        {
          "output_type": "execute_result",
          "data": {
            "text/html": [
              "<div>\n",
              "<style scoped>\n",
              "    .dataframe tbody tr th:only-of-type {\n",
              "        vertical-align: middle;\n",
              "    }\n",
              "\n",
              "    .dataframe tbody tr th {\n",
              "        vertical-align: top;\n",
              "    }\n",
              "\n",
              "    .dataframe thead th {\n",
              "        text-align: right;\n",
              "    }\n",
              "</style>\n",
              "<table border=\"1\" class=\"dataframe\">\n",
              "  <thead>\n",
              "    <tr style=\"text-align: right;\">\n",
              "      <th></th>\n",
              "      <th>uniqueID</th>\n",
              "      <th>Age</th>\n",
              "      <th>Height(cm)</th>\n",
              "      <th>Weight(kg)</th>\n",
              "      <th>Country</th>\n",
              "      <th>Ethnicity</th>\n",
              "      <th>Gender</th>\n",
              "      <th>condition</th>\n",
              "      <th>treatment</th>\n",
              "      <th>treatment_score</th>\n",
              "      <th>updated_date</th>\n",
              "      <th>Weight</th>\n",
              "      <th>Condition</th>\n",
              "    </tr>\n",
              "  </thead>\n",
              "  <tbody>\n",
              "    <tr>\n",
              "      <th>0</th>\n",
              "      <td>474767</td>\n",
              "      <td>51</td>\n",
              "      <td>147</td>\n",
              "      <td>185</td>\n",
              "      <td>2</td>\n",
              "      <td>1</td>\n",
              "      <td>3</td>\n",
              "      <td>2</td>\n",
              "      <td>NaN</td>\n",
              "      <td>NaN</td>\n",
              "      <td>NaN</td>\n",
              "      <td>91</td>\n",
              "      <td>2</td>\n",
              "    </tr>\n",
              "    <tr>\n",
              "      <th>1</th>\n",
              "      <td>475563</td>\n",
              "      <td>54</td>\n",
              "      <td>200</td>\n",
              "      <td>152</td>\n",
              "      <td>2</td>\n",
              "      <td>4</td>\n",
              "      <td>2</td>\n",
              "      <td>1</td>\n",
              "      <td>NaN</td>\n",
              "      <td>NaN</td>\n",
              "      <td>NaN</td>\n",
              "      <td>163</td>\n",
              "      <td>2</td>\n",
              "    </tr>\n",
              "    <tr>\n",
              "      <th>2</th>\n",
              "      <td>118343</td>\n",
              "      <td>36</td>\n",
              "      <td>189</td>\n",
              "      <td>121</td>\n",
              "      <td>2</td>\n",
              "      <td>3</td>\n",
              "      <td>2</td>\n",
              "      <td>2</td>\n",
              "      <td>NaN</td>\n",
              "      <td>NaN</td>\n",
              "      <td>NaN</td>\n",
              "      <td>177</td>\n",
              "      <td>1</td>\n",
              "    </tr>\n",
              "    <tr>\n",
              "      <th>3</th>\n",
              "      <td>173750</td>\n",
              "      <td>30</td>\n",
              "      <td>194</td>\n",
              "      <td>98</td>\n",
              "      <td>2</td>\n",
              "      <td>4</td>\n",
              "      <td>3</td>\n",
              "      <td>2</td>\n",
              "      <td>NaN</td>\n",
              "      <td>NaN</td>\n",
              "      <td>NaN</td>\n",
              "      <td>172</td>\n",
              "      <td>1</td>\n",
              "    </tr>\n",
              "    <tr>\n",
              "      <th>4</th>\n",
              "      <td>475508</td>\n",
              "      <td>51</td>\n",
              "      <td>189</td>\n",
              "      <td>191</td>\n",
              "      <td>1</td>\n",
              "      <td>4</td>\n",
              "      <td>3</td>\n",
              "      <td>2</td>\n",
              "      <td>NaN</td>\n",
              "      <td>NaN</td>\n",
              "      <td>NaN</td>\n",
              "      <td>193</td>\n",
              "      <td>1</td>\n",
              "    </tr>\n",
              "  </tbody>\n",
              "</table>\n",
              "</div>"
            ],
            "text/plain": [
              "  uniqueID  Age  Height(cm)  ...  updated_date  Weight  Condition\n",
              "0   474767   51         147  ...           NaN      91          2\n",
              "1   475563   54         200  ...           NaN     163          2\n",
              "2   118343   36         189  ...           NaN     177          1\n",
              "3   173750   30         194  ...           NaN     172          1\n",
              "4   475508   51         189  ...           NaN     193          1\n",
              "\n",
              "[5 rows x 13 columns]"
            ]
          },
          "metadata": {
            "tags": []
          },
          "execution_count": 44
        }
      ]
    },
    {
      "cell_type": "code",
      "metadata": {
        "id": "8jK1Q1t7-C_4"
      },
      "source": [
        "manual.to_excel(\"manual.xlsx\")\n"
      ],
      "execution_count": null,
      "outputs": []
    },
    {
      "cell_type": "code",
      "metadata": {
        "id": "H3Q6grdmBK5D"
      },
      "source": [
        "manual[\"uniqueID\"].value_counts()"
      ],
      "execution_count": null,
      "outputs": []
    },
    {
      "cell_type": "code",
      "metadata": {
        "id": "mvJzh3GdNUtf"
      },
      "source": [
        "uuid = np.unique(manual[\"uniqueID\"])"
      ],
      "execution_count": null,
      "outputs": []
    },
    {
      "cell_type": "code",
      "metadata": {
        "id": "irsgoW0bN4HA"
      },
      "source": [
        "uuid"
      ],
      "execution_count": null,
      "outputs": []
    },
    {
      "cell_type": "code",
      "metadata": {
        "id": "RYZl5TrOOK_P"
      },
      "source": [
        "len(uuid)"
      ],
      "execution_count": null,
      "outputs": []
    },
    {
      "cell_type": "code",
      "metadata": {
        "id": "JT4Nj1T-ORO-"
      },
      "source": [
        "for unique in uuid:\n",
        "   no_of_days = len(manual[manual['uniqueID'] == unique])\n",
        "   dates = pd.to_datetime( np.random.choice(pd.date_range('2021-01-01', '2021-06-01'), no_of_days, replace=False)).sort_values()\n",
        "   i=0;\n",
        "   j=0;\n",
        "   for ind in manual.index:\n",
        "     if(manual[\"uniqueID\"][ind] == unique):\n",
        "       manual[\"check_in date\"][ind] = dates[j]\n",
        "       j=j+1\n",
        "   #print(unique,no_of_days)"
      ],
      "execution_count": null,
      "outputs": []
    },
    {
      "cell_type": "code",
      "metadata": {
        "id": "Rn-uRwPCUZZ3"
      },
      "source": [
        "manual[\"check_in date\"].value_counts()"
      ],
      "execution_count": null,
      "outputs": []
    },
    {
      "cell_type": "code",
      "metadata": {
        "id": "WBzv3bn7eDAk"
      },
      "source": [
        "manual.head()"
      ],
      "execution_count": null,
      "outputs": []
    },
    {
      "cell_type": "code",
      "metadata": {
        "id": "JtM132DDeId-"
      },
      "source": [
        "manual.to_excel(\"final_manual.xlsx\")\n"
      ],
      "execution_count": null,
      "outputs": []
    },
    {
      "cell_type": "code",
      "metadata": {
        "id": "idY0XEVweMIK"
      },
      "source": [
        "main.head(20)"
      ],
      "execution_count": null,
      "outputs": []
    },
    {
      "cell_type": "code",
      "metadata": {
        "id": "kaD52AZheV7q"
      },
      "source": [
        "coun = {\"1\":\"USA\",\"2\":\"Canada\"}"
      ],
      "execution_count": null,
      "outputs": []
    },
    {
      "cell_type": "code",
      "metadata": {
        "id": "D3jYZqVQeeGB"
      },
      "source": [
        "main[\"Country\"] =main[\"Country\"].map(coun)"
      ],
      "execution_count": null,
      "outputs": []
    },
    {
      "cell_type": "code",
      "metadata": {
        "id": "sCTid885eq1y"
      },
      "source": [
        "eth = {1:\"Non-Hispanic White\",2:\"Hispanic\",3:\"Black or African\",4:\"Asian\"}"
      ],
      "execution_count": null,
      "outputs": []
    },
    {
      "cell_type": "code",
      "metadata": {
        "id": "gnj1HMtBfBEq"
      },
      "source": [
        "main[\"Ethnicity\"] = main[\"Ethnicity\"].map(eth)"
      ],
      "execution_count": null,
      "outputs": []
    },
    {
      "cell_type": "code",
      "metadata": {
        "id": "YnmnkCX2fMGa"
      },
      "source": [
        "con = {1:\"Diabetes\",2:\"Hypertension\"}"
      ],
      "execution_count": null,
      "outputs": []
    },
    {
      "cell_type": "code",
      "metadata": {
        "id": "gresN2Z0fTu5"
      },
      "source": [
        "main[\"condition\"] = main[\"condition\"].map(con)"
      ],
      "execution_count": null,
      "outputs": []
    },
    {
      "cell_type": "code",
      "metadata": {
        "id": "wDOy9ceSffpu"
      },
      "source": [
        "main.head()"
      ],
      "execution_count": null,
      "outputs": []
    },
    {
      "cell_type": "code",
      "metadata": {
        "id": "_ZTYDqIZgh32"
      },
      "source": [
        "main['Ethnicity'] = np.random.randint(1,5,1000)\n",
        "main['Country'] = np.random.randint(1,3,1000)\n",
        "main['condition'] = np.random.randint(1,3,1000)"
      ],
      "execution_count": null,
      "outputs": []
    },
    {
      "cell_type": "code",
      "metadata": {
        "id": "oTIc4uZig3Y9"
      },
      "source": [
        "main = main.drop([\"Condition\"],axis=1)"
      ],
      "execution_count": null,
      "outputs": []
    },
    {
      "cell_type": "code",
      "metadata": {
        "id": "wVi8nfB1gJrs"
      },
      "source": [
        "main['Country'] = main['Country'].map({1:\"USA\",2:\"Canada\"})"
      ],
      "execution_count": null,
      "outputs": []
    },
    {
      "cell_type": "code",
      "metadata": {
        "id": "PKnZdrSchjsm"
      },
      "source": [
        "main['Gender'] = main['Gender'].map({1:\"Female\",2:\"Male\",3:\"Others\"})"
      ],
      "execution_count": null,
      "outputs": []
    },
    {
      "cell_type": "code",
      "metadata": {
        "id": "TphwgnCBgV5T"
      },
      "source": [
        "main.head()"
      ],
      "execution_count": null,
      "outputs": []
    },
    {
      "cell_type": "code",
      "metadata": {
        "id": "GZASxDrIhvld"
      },
      "source": [
        "main[\"treatment\"].value_counts()"
      ],
      "execution_count": null,
      "outputs": []
    },
    {
      "cell_type": "code",
      "metadata": {
        "id": "zvHlp_JViojh"
      },
      "source": [
        "main['treatment'] = np.random.randint(1,11,1000)\n"
      ],
      "execution_count": null,
      "outputs": []
    },
    {
      "cell_type": "code",
      "metadata": {
        "id": "7qKYS9Eiiv3K"
      },
      "source": [
        "main.head()"
      ],
      "execution_count": null,
      "outputs": []
    },
    {
      "cell_type": "code",
      "metadata": {
        "id": "EGdiPHyDi3vk"
      },
      "source": [
        "main['treatment'] = main['treatment'].map({1:\"Metformin\",2:\"Sulfonylureas\",3:\"Meglitinides\",4:\"Thiazolidinediones\",5:\"DPP-4 inhibitors\",6:\"Diuretics\",7:\"Beta-blockers\",8:\"ACE inhibitors\",9:\"Alpha inhibitors\",10:\"lisinopril\"})"
      ],
      "execution_count": null,
      "outputs": []
    },
    {
      "cell_type": "code",
      "metadata": {
        "id": "vtoB18h0lqgU"
      },
      "source": [
        "main.head()"
      ],
      "execution_count": null,
      "outputs": []
    },
    {
      "cell_type": "code",
      "metadata": {
        "id": "prvQNcTyjL_O"
      },
      "source": [
        "manual.head(20)"
      ],
      "execution_count": null,
      "outputs": []
    },
    {
      "cell_type": "code",
      "metadata": {
        "id": "cNTEyJI9mMN6"
      },
      "source": [
        "main['Gender'] = np.random.randint(1,5,1000)\n"
      ],
      "execution_count": null,
      "outputs": []
    },
    {
      "cell_type": "code",
      "metadata": {
        "id": "HuLPIQGCmYis"
      },
      "source": [
        "main.head()"
      ],
      "execution_count": null,
      "outputs": []
    },
    {
      "cell_type": "code",
      "metadata": {
        "id": "2Tux_sJhm3_N"
      },
      "source": [
        "main[\"Gender\"] = main[\"Gender\"].map({1:\"Female\",2:\"Male\",3:\"Others\",4:\"Don't say\"})"
      ],
      "execution_count": null,
      "outputs": []
    },
    {
      "cell_type": "code",
      "metadata": {
        "id": "5jmXLv9Bn2xM"
      },
      "source": [
        "main.to_excel(\"final_main.xlsx\")\n"
      ],
      "execution_count": null,
      "outputs": []
    },
    {
      "cell_type": "code",
      "metadata": {
        "id": "dHSbuSrLvQLr"
      },
      "source": [
        "m1=manual.copy()"
      ],
      "execution_count": null,
      "outputs": []
    },
    {
      "cell_type": "code",
      "metadata": {
        "id": "RNeKi3wpvTgc"
      },
      "source": [
        "m1.head()"
      ],
      "execution_count": null,
      "outputs": []
    },
    {
      "cell_type": "code",
      "metadata": {
        "id": "Upma4HCxvWQW"
      },
      "source": [
        "m1=m1.sort_values(\"uniqueID\")"
      ],
      "execution_count": null,
      "outputs": []
    },
    {
      "cell_type": "code",
      "metadata": {
        "id": "6dN8rGxxvs_B"
      },
      "source": [
        "m1.head()"
      ],
      "execution_count": null,
      "outputs": []
    },
    {
      "cell_type": "code",
      "metadata": {
        "id": "jTen2TOhw37q"
      },
      "source": [
        "m1 = m1.sort_values([\"uniqueID\", \"check_in date\"], ascending = (True, True))\n"
      ],
      "execution_count": null,
      "outputs": []
    },
    {
      "cell_type": "code",
      "metadata": {
        "id": "edP1q6aRxNA0"
      },
      "source": [
        "m1.head()"
      ],
      "execution_count": null,
      "outputs": []
    },
    {
      "cell_type": "code",
      "metadata": {
        "id": "0t3dMOBCzqrB"
      },
      "source": [
        "a1 = auto.copy()"
      ],
      "execution_count": null,
      "outputs": []
    },
    {
      "cell_type": "code",
      "metadata": {
        "id": "3DFMSS3bzux6"
      },
      "source": [
        "a1.head()"
      ],
      "execution_count": null,
      "outputs": []
    },
    {
      "cell_type": "code",
      "metadata": {
        "id": "cQbrpdyrz1A1"
      },
      "source": [
        "a1 = a1.sort_values([\"uniqueID\", \"check_in date\"], ascending = (True, True))\n"
      ],
      "execution_count": null,
      "outputs": []
    },
    {
      "cell_type": "code",
      "metadata": {
        "id": "Rk9NpBgTz4qT"
      },
      "source": [
        "a1.head()"
      ],
      "execution_count": null,
      "outputs": []
    },
    {
      "cell_type": "code",
      "metadata": {
        "id": "yRAXy0kt0fy9"
      },
      "source": [
        "a1 = a1.drop([\"Unnamed: 0\"],axis = 1)"
      ],
      "execution_count": null,
      "outputs": []
    },
    {
      "cell_type": "code",
      "metadata": {
        "id": "NwV3Vp7D0AUi"
      },
      "source": [
        "a1.nunique()"
      ],
      "execution_count": null,
      "outputs": []
    },
    {
      "cell_type": "code",
      "metadata": {
        "id": "O4xPLX-a0tJ2"
      },
      "source": [
        "a1.head()"
      ],
      "execution_count": null,
      "outputs": []
    },
    {
      "cell_type": "code",
      "metadata": {
        "id": "MQIh6Sow0zFY"
      },
      "source": [
        "a1 = a1.sort_values([\"uniqueID\", \"check_in date\"], ascending = (True, True))\n"
      ],
      "execution_count": null,
      "outputs": []
    },
    {
      "cell_type": "code",
      "metadata": {
        "id": "Y_Jq9RxM02yB"
      },
      "source": [
        "a1.head()"
      ],
      "execution_count": null,
      "outputs": []
    },
    {
      "cell_type": "code",
      "metadata": {
        "id": "vybnBVn3050I"
      },
      "source": [
        "m1.head()"
      ],
      "execution_count": null,
      "outputs": []
    },
    {
      "cell_type": "code",
      "metadata": {
        "id": "3OxdLwlI09YW"
      },
      "source": [
        "a1[a1[\"uniqueID\"]==\"100610\"].nunique()"
      ],
      "execution_count": null,
      "outputs": []
    },
    {
      "cell_type": "code",
      "metadata": {
        "id": "AtZ_9mEK2Ulr"
      },
      "source": [
        "s1 = main.copy()"
      ],
      "execution_count": null,
      "outputs": []
    },
    {
      "cell_type": "code",
      "metadata": {
        "id": "usLRl8Hw2Yab"
      },
      "source": [
        "s1[s1[\"uniqueID\"]==\"32822\"].nunique()"
      ],
      "execution_count": null,
      "outputs": []
    },
    {
      "cell_type": "code",
      "metadata": {
        "id": "keQC45Yx49eJ"
      },
      "source": [
        "m1[\"check_in date\"] = pd.to_datetime(m1[\"check_in date\"]).dt.date "
      ],
      "execution_count": null,
      "outputs": []
    },
    {
      "cell_type": "code",
      "metadata": {
        "id": "WjgvZeWW5la4"
      },
      "source": [
        "m1.head()"
      ],
      "execution_count": null,
      "outputs": []
    },
    {
      "cell_type": "markdown",
      "metadata": {
        "id": "doq2uRQ96ePE"
      },
      "source": [
        ""
      ]
    },
    {
      "cell_type": "code",
      "metadata": {
        "id": "5fw-fsqE5vBU"
      },
      "source": [
        "qw = pd.concat([m1,a1])"
      ],
      "execution_count": null,
      "outputs": []
    },
    {
      "cell_type": "code",
      "metadata": {
        "id": "9o85Zi-76X6O"
      },
      "source": [
        "m1['primary_key'] = m1[\"uniqueID\"].astype(str) + '_' + m1[\"check_in date\"].astype(str)\n"
      ],
      "execution_count": null,
      "outputs": []
    },
    {
      "cell_type": "code",
      "metadata": {
        "id": "ZNUnIkcU8u1i"
      },
      "source": [
        "m1.head()"
      ],
      "execution_count": null,
      "outputs": []
    },
    {
      "cell_type": "code",
      "metadata": {
        "id": "dqo1eniI80N5"
      },
      "source": [
        "a1['primary_key'] = a1[\"uniqueID\"].astype(str) + '_' + a1[\"check_in date\"].astype(str)\n"
      ],
      "execution_count": null,
      "outputs": []
    },
    {
      "cell_type": "code",
      "metadata": {
        "id": "_-fIPryw89aJ"
      },
      "source": [
        "a1.head()"
      ],
      "execution_count": null,
      "outputs": []
    },
    {
      "cell_type": "code",
      "metadata": {
        "id": "s9-687ZM9Ag7"
      },
      "source": [
        "am = pd.concat([a1,m1])"
      ],
      "execution_count": null,
      "outputs": []
    },
    {
      "cell_type": "code",
      "metadata": {
        "id": "Ha_Misg79Nfx"
      },
      "source": [
        "am.head()"
      ],
      "execution_count": null,
      "outputs": []
    },
    {
      "cell_type": "code",
      "metadata": {
        "id": "dN8HgDLo9ip1"
      },
      "source": [
        "m1.rename(columns = {'primary_key':'ID'}, inplace = True)\n",
        "a1.rename(columns = {'primary_key':'ID'}, inplace = True)\n"
      ],
      "execution_count": null,
      "outputs": []
    },
    {
      "cell_type": "code",
      "metadata": {
        "id": "Sd9e0niH9ysR"
      },
      "source": [
        "m1.head()\n",
        "a1.head()"
      ],
      "execution_count": null,
      "outputs": []
    },
    {
      "cell_type": "code",
      "metadata": {
        "id": "HTQcQg3F_3JE"
      },
      "source": [
        "a1.head()"
      ],
      "execution_count": null,
      "outputs": []
    },
    {
      "cell_type": "code",
      "metadata": {
        "id": "cvTByhf7_2eY"
      },
      "source": [
        ""
      ],
      "execution_count": null,
      "outputs": []
    },
    {
      "cell_type": "code",
      "metadata": {
        "id": "37bU0UJk932Z"
      },
      "source": [
        "m1.shape"
      ],
      "execution_count": null,
      "outputs": []
    },
    {
      "cell_type": "code",
      "metadata": {
        "id": "GlxSQmDA980i"
      },
      "source": [
        "a1.head()"
      ],
      "execution_count": null,
      "outputs": []
    },
    {
      "cell_type": "code",
      "metadata": {
        "id": "04r7KieRAP53"
      },
      "source": [
        "m1['ID'] = m1[\"uniqueID\"].astype(str) + '_' + m1[\"check_in date\"].astype(str)\n"
      ],
      "execution_count": null,
      "outputs": []
    },
    {
      "cell_type": "code",
      "metadata": {
        "id": "CgUNZRA_Axe0"
      },
      "source": [
        "a1.head(10)"
      ],
      "execution_count": null,
      "outputs": []
    },
    {
      "cell_type": "code",
      "metadata": {
        "id": "3watkiBPJban"
      },
      "source": [
        ""
      ],
      "execution_count": null,
      "outputs": []
    },
    {
      "cell_type": "code",
      "metadata": {
        "id": "vchVt-Z3A1fF"
      },
      "source": [
        "m1.head(10)"
      ],
      "execution_count": null,
      "outputs": []
    },
    {
      "cell_type": "code",
      "metadata": {
        "id": "3lGXPLOpA48M"
      },
      "source": [
        "qwerty = pd.merge(m1,a1,how = \"outer\",left_on=\"ID\",right_on=\"ID\")\n",
        "\n"
      ],
      "execution_count": null,
      "outputs": []
    },
    {
      "cell_type": "code",
      "metadata": {
        "id": "iWlzZpz9BdhQ"
      },
      "source": [
        "qwerty.head(20)"
      ],
      "execution_count": null,
      "outputs": []
    },
    {
      "cell_type": "code",
      "metadata": {
        "id": "vsRw1LZYDFMF"
      },
      "source": [
        "qwerty=qwerty.sort_values(\"ID\")"
      ],
      "execution_count": null,
      "outputs": []
    },
    {
      "cell_type": "code",
      "metadata": {
        "id": "BB_9BbCKDLUS"
      },
      "source": [
        "qwerty.head(10)"
      ],
      "execution_count": null,
      "outputs": []
    },
    {
      "cell_type": "code",
      "metadata": {
        "id": "0TRMz2d4L8OH"
      },
      "source": [
        "qwerty.to_excel(\"merged.xlsx\")"
      ],
      "execution_count": null,
      "outputs": []
    },
    {
      "cell_type": "code",
      "metadata": {
        "id": "mYFIcwBfLMgH"
      },
      "source": [
        "qwerty.replace(np.nan, 0,inplace=True)\n"
      ],
      "execution_count": null,
      "outputs": []
    },
    {
      "cell_type": "code",
      "metadata": {
        "id": "ZwnDh9xfMWvv"
      },
      "source": [
        "sum_severity = qwerty[\"Severity_1\"] + qwerty[\"Severity_2\"]\n",
        "qwerty[\"severity\"] = sum_severity\n"
      ],
      "execution_count": null,
      "outputs": []
    },
    {
      "cell_type": "code",
      "metadata": {
        "id": "t-LCUFqhM2G5"
      },
      "source": [
        "qwerty.head()"
      ],
      "execution_count": null,
      "outputs": []
    },
    {
      "cell_type": "code",
      "metadata": {
        "id": "R5bf7Ip6NMQk"
      },
      "source": [
        "qwerty=qwerty.drop([\"uniqueID_x\",\"check_in date_x\",\"Hairfall\",\"Rashes\",\"Upset stomach\",\"Fever\",\"Body pain\",\"Headache\",\"uniqueID_y\",\"check_in date_y\",\"Blood sugar\",\"Hip-waist ratio\",\"Lower blood pressure\",\"Upper Blood pressure\",\"Pulse\"],axis=1)"
      ],
      "execution_count": null,
      "outputs": []
    },
    {
      "cell_type": "code",
      "metadata": {
        "id": "epmubi5IORNT"
      },
      "source": [
        "qwerty[['UniqueID','check_in date']] = qwerty.ID.str.split(\"_\",expand=True,)\n"
      ],
      "execution_count": null,
      "outputs": []
    },
    {
      "cell_type": "code",
      "metadata": {
        "id": "FNbofvgSPCzS"
      },
      "source": [
        "qwerty.head()"
      ],
      "execution_count": null,
      "outputs": []
    },
    {
      "cell_type": "code",
      "metadata": {
        "id": "AJTqDS4ZPuBC"
      },
      "source": [
        "qwerty.to_excel(\"qwerty.xlsx\")"
      ],
      "execution_count": null,
      "outputs": []
    },
    {
      "cell_type": "code",
      "metadata": {
        "id": "NSrQmY5yQR-2"
      },
      "source": [
        "qwerty = qwerty[[\"ID\",\"UniqueID\",\"check_in date\",\"Severity_1\",\"Severity_2\",\"severity\"]]"
      ],
      "execution_count": null,
      "outputs": []
    },
    {
      "cell_type": "code",
      "metadata": {
        "id": "ePS5wUSbQjx6"
      },
      "source": [
        "qwerty.head()"
      ],
      "execution_count": null,
      "outputs": []
    },
    {
      "cell_type": "markdown",
      "metadata": {
        "id": "fuWs6EkKRG9k"
      },
      "source": [
        "**Plotting**"
      ]
    },
    {
      "cell_type": "code",
      "metadata": {
        "id": "WFrbrhEaTe4e"
      },
      "source": [
        "user = np.unique(qwerty[\"UniqueID\"])"
      ],
      "execution_count": null,
      "outputs": []
    },
    {
      "cell_type": "code",
      "metadata": {
        "id": "tixEd1HNRFh4"
      },
      "source": [
        "for unique in uuid:\n",
        "   no_of_days = len(manual[manual['uniqueID'] == unique])\n",
        "   dates = pd.to_datetime( np.random.choice(pd.date_range('2021-01-01', '2021-06-01'), no_of_days, replace=False)).sort_values()\n",
        "   i=0;\n",
        "   j=0;\n",
        "   for ind in manual.index:\n",
        "     if(manual[\"uniqueID\"][ind] == unique):\n",
        "       manual[\"check_in date\"][ind] = dates[j]\n",
        "       j=j+1\n",
        "   #print(unique,no_of_days)"
      ],
      "execution_count": null,
      "outputs": []
    },
    {
      "cell_type": "code",
      "metadata": {
        "id": "_oIGC9IURF-r"
      },
      "source": [
        "len(user)"
      ],
      "execution_count": null,
      "outputs": []
    },
    {
      "cell_type": "code",
      "metadata": {
        "id": "_fQIk7UuWfbz"
      },
      "source": [
        "import matplotlib.pyplot as plt\n"
      ],
      "execution_count": null,
      "outputs": []
    },
    {
      "cell_type": "code",
      "metadata": {
        "id": "fa0aONK9UJQg"
      },
      "source": [
        "for uuid in user:\n",
        "  x=[]\n",
        "  y=[]\n",
        "  for ind in qwerty.index:\n",
        "     if(qwerty[\"UniqueID\"][ind] == uuid):\n",
        "       x.append(qwerty[\"check_in date\"][ind])\n",
        "       y.append(qwerty[\"severity\"][ind])\n",
        "  plt.plot(x,y)\n",
        "  plt.show()\n",
        "    \n",
        "       "
      ],
      "execution_count": null,
      "outputs": []
    },
    {
      "cell_type": "code",
      "metadata": {
        "id": "Jr-uEP2daDGF"
      },
      "source": [
        "import pandas as pd\n",
        "import matplotlib.pyplot as plt\n",
        "from scipy import stats\n"
      ],
      "execution_count": null,
      "outputs": []
    },
    {
      "cell_type": "code",
      "metadata": {
        "id": "5xA6dxyYbyXv"
      },
      "source": [
        "\n",
        "\n",
        "\n",
        "stats = linregress(x, y)\n",
        "\n",
        "m = stats.slope\n",
        "b = stats.intercept\n",
        "\n",
        "plt.scatter(x, y)\n",
        "plt.plot(x, m * x + b, color=\"red\")   # I've added a color argument here\n",
        "\n",
        "plt.savefig(\"figure.png\")"
      ],
      "execution_count": null,
      "outputs": []
    },
    {
      "cell_type": "code",
      "metadata": {
        "id": "Ij--lwv8eaJh"
      },
      "source": [
        "import datetime as dt\n",
        "from scipy import stats\n"
      ],
      "execution_count": null,
      "outputs": []
    },
    {
      "cell_type": "code",
      "metadata": {
        "id": "319edgAfngLG"
      },
      "source": [
        "from prettytable import PrettyTable \n",
        "myTable = PrettyTable([\"uniqueID\", \"slope\"]) \n"
      ],
      "execution_count": null,
      "outputs": []
    },
    {
      "cell_type": "code",
      "metadata": {
        "id": "o8-cGih7aRxR"
      },
      "source": [
        "for uuid in user:\n",
        "  qi = qwerty[qwerty[\"UniqueID\"] == uuid]\n",
        "  qi['date_ordinal'] = pd.to_datetime(qi['check_in date']).map(dt.datetime.toordinal)\n",
        "  slope, intercept, r_value, p_value, std_err = stats.linregress(qi['date_ordinal'], qi['severity'])\n",
        "  myTable.add_row([uuid,slope])\n",
        "\n"
      ],
      "execution_count": null,
      "outputs": []
    },
    {
      "cell_type": "code",
      "metadata": {
        "id": "OF_CaxL2oTUO"
      },
      "source": [
        "print(myTable)"
      ],
      "execution_count": null,
      "outputs": []
    },
    {
      "cell_type": "code",
      "metadata": {
        "id": "N7Zgl7Kcsu3H"
      },
      "source": [
        "import pandas as pd\n"
      ],
      "execution_count": null,
      "outputs": []
    },
    {
      "cell_type": "code",
      "metadata": {
        "id": "JO6KMNa7rUTL"
      },
      "source": [
        "uID=[]\n",
        "ss = []\n",
        "for uuid in user:\n",
        "  qi = qwerty[qwerty[\"UniqueID\"] == uuid]\n",
        "  qi['date_ordinal'] = pd.to_datetime(qi['check_in date']).map(dt.datetime.toordinal)\n",
        "  slope, intercept, r_value, p_value, std_err = stats.linregress(qi['date_ordinal'], qi['severity'])\n",
        "  uID.append(uuid)\n",
        "  ss.append(slope)"
      ],
      "execution_count": null,
      "outputs": []
    },
    {
      "cell_type": "code",
      "metadata": {
        "id": "1CycsJPgtQlI"
      },
      "source": [
        "list_of_tuples = list(zip(uID, ss))\n",
        "mapping_file = pd.DataFrame(list_of_tuples,\n",
        "                  columns = ['uniqueID', 'severity_slope'])\n"
      ],
      "execution_count": null,
      "outputs": []
    },
    {
      "cell_type": "code",
      "metadata": {
        "id": "aEnv2NTPtmGk"
      },
      "source": [
        "mapping_file.head()"
      ],
      "execution_count": null,
      "outputs": []
    },
    {
      "cell_type": "code",
      "metadata": {
        "id": "1_h_hkMgt6Kd"
      },
      "source": [
        "mapping_file.to_excel(\"mapping_file.xlsx\")"
      ],
      "execution_count": null,
      "outputs": []
    },
    {
      "cell_type": "code",
      "metadata": {
        "id": "Td0Skz78uEmQ"
      },
      "source": [
        "mapping_file.sort_values([\"severity_slope\"])"
      ],
      "execution_count": null,
      "outputs": []
    },
    {
      "cell_type": "code",
      "metadata": {
        "id": "xHCNqcIYxDBg"
      },
      "source": [
        "max_value = 0.036385230554181365"
      ],
      "execution_count": null,
      "outputs": []
    },
    {
      "cell_type": "code",
      "metadata": {
        "id": "1KVB_6KJxWTS"
      },
      "source": [
        "min_value = -0.003356456874483524"
      ],
      "execution_count": null,
      "outputs": []
    },
    {
      "cell_type": "code",
      "metadata": {
        "id": "2ebKjF4TxoZK"
      },
      "source": [
        "print(max_value)\n",
        "print(min_value)"
      ],
      "execution_count": null,
      "outputs": []
    },
    {
      "cell_type": "code",
      "metadata": {
        "id": "gWRMG7xh0CH-"
      },
      "source": [
        "sco = ((0.036385230554181365-(-1))/1-(-1))*100"
      ],
      "execution_count": null,
      "outputs": []
    },
    {
      "cell_type": "code",
      "metadata": {
        "id": "j1n0UKyH0M4X"
      },
      "source": [
        "print(sco)"
      ],
      "execution_count": null,
      "outputs": []
    },
    {
      "cell_type": "code",
      "metadata": {
        "id": "b5MmWrNjxvKl"
      },
      "source": [
        "sum_score = ((mapping_file[\"severity_slope\"] - min_value)/(max_value - min_value))*100\n"
      ],
      "execution_count": null,
      "outputs": []
    },
    {
      "cell_type": "code",
      "metadata": {
        "id": "ygLDtQwBzea-"
      },
      "source": [
        "mapping_file[\"Normalized_score\"] = sum_score"
      ],
      "execution_count": null,
      "outputs": []
    },
    {
      "cell_type": "code",
      "metadata": {
        "id": "c-uaxZGSzmxj"
      },
      "source": [
        "mapping_file.sort_values([\"Normalized_score\"])"
      ],
      "execution_count": null,
      "outputs": []
    },
    {
      "cell_type": "code",
      "metadata": {
        "id": "_FeLpKd_0835"
      },
      "source": [
        "import matplotlib.pyplot as plt\n",
        "plt.plot(mapping_file[\"severity_slope\"],mapping_file[\"Normalized_score\"])"
      ],
      "execution_count": null,
      "outputs": []
    },
    {
      "cell_type": "code",
      "metadata": {
        "id": "2seGKBB62tWN"
      },
      "source": [
        "import statistics\n"
      ],
      "execution_count": null,
      "outputs": []
    },
    {
      "cell_type": "code",
      "metadata": {
        "id": "pGYOOoog2E_V"
      },
      "source": [
        "mean_value = statistics.mean(mappig_file[\"severity_slope\"])"
      ],
      "execution_count": null,
      "outputs": []
    },
    {
      "cell_type": "code",
      "metadata": {
        "id": "S4EJjTvu3YoT"
      },
      "source": [
        "print(mean_value)"
      ],
      "execution_count": null,
      "outputs": []
    },
    {
      "cell_type": "code",
      "metadata": {
        "id": "D_3dmEwS3r7E"
      },
      "source": [
        "sd_value = statistics.stdev(mappig_file[\"severity_slope\"])"
      ],
      "execution_count": null,
      "outputs": []
    },
    {
      "cell_type": "code",
      "metadata": {
        "id": "-8upbkBn31qs"
      },
      "source": [
        "mapping_file[\"normalised_score_1\"] = (mappig_file[\"severity_slope\"]-mean_value)/sd_value"
      ],
      "execution_count": null,
      "outputs": []
    },
    {
      "cell_type": "code",
      "metadata": {
        "id": "XeAmBX-W4Lda"
      },
      "source": [
        "mapping_file.head()"
      ],
      "execution_count": null,
      "outputs": []
    },
    {
      "cell_type": "code",
      "metadata": {
        "id": "jw4GHnUM4UuS"
      },
      "source": [
        "mapping_file = mapping_file.drop([\"normalised_score_1\"],axis=1)"
      ],
      "execution_count": null,
      "outputs": []
    },
    {
      "cell_type": "code",
      "metadata": {
        "id": "t8YBfpoz7nOV"
      },
      "source": [
        "mapping_file.head()"
      ],
      "execution_count": null,
      "outputs": []
    },
    {
      "cell_type": "code",
      "metadata": {
        "id": "z5xTnbPg41Y1"
      },
      "source": [
        "mapping_file.to_excel(\"final_mapping_file.xlsx\")"
      ],
      "execution_count": null,
      "outputs": []
    },
    {
      "cell_type": "code",
      "metadata": {
        "id": "NffqD2C26Gpn"
      },
      "source": [
        "main.head()"
      ],
      "execution_count": null,
      "outputs": []
    },
    {
      "cell_type": "code",
      "metadata": {
        "id": "tZw8_Pb36MK0"
      },
      "source": [
        "main1 = main.copy()"
      ],
      "execution_count": null,
      "outputs": []
    },
    {
      "cell_type": "code",
      "metadata": {
        "id": "jHjjAP1i6Rzw"
      },
      "source": [
        "main1.head()"
      ],
      "execution_count": null,
      "outputs": []
    },
    {
      "cell_type": "code",
      "metadata": {
        "id": "F4qvH_mA8zDH"
      },
      "source": [
        "import pandas as pd"
      ],
      "execution_count": null,
      "outputs": []
    },
    {
      "cell_type": "code",
      "metadata": {
        "id": "XqNUWQtP6YCb"
      },
      "source": [
        "\n",
        "dictionary = mapping_file.set_index('uniqueID').to_dict()['Normalized_score']"
      ],
      "execution_count": null,
      "outputs": []
    },
    {
      "cell_type": "code",
      "metadata": {
        "id": "3LBHuNk28HHa"
      },
      "source": [
        "main1[\"treatment_score\"] = main1[\"uniqueID\"].map(dictionary)"
      ],
      "execution_count": null,
      "outputs": []
    },
    {
      "cell_type": "code",
      "metadata": {
        "id": "LBZ_KHB-9-eT"
      },
      "source": [
        "main1.head()"
      ],
      "execution_count": null,
      "outputs": []
    },
    {
      "cell_type": "code",
      "metadata": {
        "id": "lBLn62ae-DC2"
      },
      "source": [
        "main1[\"treatment_score\"].value_counts()"
      ],
      "execution_count": null,
      "outputs": []
    },
    {
      "cell_type": "code",
      "metadata": {
        "id": "ShxqHLlU-Oq_"
      },
      "source": [
        "main1.head()"
      ],
      "execution_count": null,
      "outputs": []
    },
    {
      "cell_type": "code",
      "metadata": {
        "id": "E33elcsRQcG5"
      },
      "source": [
        "main1.to_excel(\"final_main.xlsx\")"
      ],
      "execution_count": null,
      "outputs": []
    }
  ]
}